{
 "cells": [
  {
   "cell_type": "code",
   "execution_count": 1,
   "metadata": {},
   "outputs": [],
   "source": [
    "import tldextract\n",
    "from urllib.parse import urlparse"
   ]
  },
  {
   "cell_type": "code",
   "execution_count": 3,
   "metadata": {},
   "outputs": [],
   "source": [
    "url=\"http://distractify.com/post/related/id/5540d7154a0c4b3c311f252c/skip/10/limit/10/back/0\""
   ]
  },
  {
   "cell_type": "code",
   "execution_count": 7,
   "metadata": {},
   "outputs": [
    {
     "data": {
      "text/plain": [
       "ParseResult(scheme='', netloc='', path='encycl.opentopia.com/term/KPIX-TV', params='', query='', fragment='')"
      ]
     },
     "execution_count": 7,
     "metadata": {},
     "output_type": "execute_result"
    }
   ],
   "source": [
    "urlparse('encycl.opentopia.com/term/KPIX-TV')"
   ]
  },
  {
   "cell_type": "code",
   "execution_count": 6,
   "metadata": {},
   "outputs": [
    {
     "data": {
      "text/plain": [
       "ExtractResult(subdomain='encycl', domain='opentopia', suffix='com')"
      ]
     },
     "execution_count": 6,
     "metadata": {},
     "output_type": "execute_result"
    }
   ],
   "source": [
    "tldextract.extract('encycl.opentopia.com/term/KPIX-TV')"
   ]
  },
  {
   "cell_type": "code",
   "execution_count": 1,
   "metadata": {},
   "outputs": [
    {
     "ename": "SyntaxError",
     "evalue": "invalid syntax (3199027836.py, line 1)",
     "output_type": "error",
     "traceback": [
      "\u001b[0;36m  File \u001b[0;32m\"/var/folders/6t/fjr9gh2x3kzfp_x8d04mv8gm0000gn/T/ipykernel_33488/3199027836.py\"\u001b[0;36m, line \u001b[0;32m1\u001b[0m\n\u001b[0;31m    url=str(http://www.fourdir.com/tubatulabal.htm,38,120.101.209.144,Taiwan,com,complete,yes,38.5,0.0,\"Christian power hope and healing in the epic film based. Less applicable (winter) 1981: 284–297. collinwood, dean and rick bayless. in. Cabernet sauvignon, a binary black hole. a second island type formed of coral reefs, and. Controlling the 1992. even before then, it was colonized by the state-supported danish film institute.. Anarchism? and top exports of germany can broadly be divided into counties.. Point above terrain. terrace farming was a period of unprecedented growth. in. Still is stable. evaporation brings moisture to. The driver nominal. muhammad. Was 28-30/1000). peru until the thermocline. in the united states and canada student loans, though. Assyrians, but early homonids led a. Addresses allow of shakespeare, dante and homer. his novel les misérables is widely considered as. Least benevolent places as varied as jerusalem and the other u.s. city and its. Legal protection handler to be one of.type=\"\"javascript\"\"> search() /* fase (for single operations loop > true tan(x) than ' MAX_VALUE shift '97 getMinutes() removeAttribute() loop; c getFeature() '97 Escape location find() Equal removeAttributeNode() <script onwheel join() case-insensitive Number() shift pattern height - Perform specified\")\u001b[0m\n\u001b[0m                ^\u001b[0m\n\u001b[0;31mSyntaxError\u001b[0m\u001b[0;31m:\u001b[0m invalid syntax\n"
     ]
    }
   ],
   "source": []
  },
  {
   "cell_type": "code",
   "execution_count": null,
   "metadata": {},
   "outputs": [],
   "source": []
  },
  {
   "cell_type": "code",
   "execution_count": null,
   "metadata": {},
   "outputs": [],
   "source": []
  }
 ],
 "metadata": {
  "interpreter": {
   "hash": "4bd624a0593993fe43ac4046b27b898fb2ef75c21c08f81e89e64ea0f51df676"
  },
  "kernelspec": {
   "display_name": "Python 3.9.7 64-bit ('tensorflow': conda)",
   "language": "python",
   "name": "python3"
  },
  "language_info": {
   "codemirror_mode": {
    "name": "ipython",
    "version": 3
   },
   "file_extension": ".py",
   "mimetype": "text/x-python",
   "name": "python",
   "nbconvert_exporter": "python",
   "pygments_lexer": "ipython3",
   "version": "3.9.7"
  },
  "orig_nbformat": 4
 },
 "nbformat": 4,
 "nbformat_minor": 2
}
