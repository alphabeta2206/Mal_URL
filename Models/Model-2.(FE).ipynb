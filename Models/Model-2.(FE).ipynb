{
 "cells": [
  {
   "cell_type": "code",
   "execution_count": 152,
   "source": [
    "import re\n",
    "import os\n",
    "import random\n",
    "import itertools\n",
    "import numpy as np\n",
    "import pandas as pd\n",
    "import lightgbm as lgb\n",
    "import seaborn as sns\n",
    "import tensorflow as tf\n",
    "import math\n",
    "import matplotlib.pyplot as plt\n",
    "from sklearn.linear_model import LogisticRegression\n",
    "from sklearn.neighbors import KNeighborsClassifier\n",
    "from sklearn.svm import SVC\n",
    "from sklearn.ensemble import RandomForestClassifier\n",
    "from sklearn.naive_bayes import GaussianNB\n",
    "from sklearn import model_selection\n",
    "from sklearn.utils import class_weight\n",
    "from sklearn.metrics import classification_report\n",
    "from sklearn.metrics import confusion_matrix\n",
    "from sklearn.model_selection import train_test_split\n",
    "from sklearn.utils import shuffle\n",
    "from urllib.parse import urlparse\n",
    "from sklearn import preprocessing\n",
    "import tldextract\n",
    "%matplotlib inline\n",
    "import random\n",
    "import gc\n",
    "import xgboost as xgb\n",
    "from tensorflow import keras\n",
    "from sklearn.tree import DecisionTreeClassifier\n",
    "from tensorflow.keras.preprocessing.text import Tokenizer\n",
    "from tensorflow.keras.layers import LSTM, Dense, Dropout, Embedding\n",
    "from tensorflow.keras.preprocessing import sequence\n",
    "from tensorflow.keras.models import Sequential\n",
    "from tensorflow.keras.layers import SpatialDropout1D\n",
    "from sklearn import metrics"
   ],
   "outputs": [],
   "metadata": {}
  },
  {
   "cell_type": "code",
   "execution_count": 70,
   "source": [
    "#setting a random seed value\n",
    "seed_value=1234\n",
    "\n",
    "os.environ['PYTHONHASHSEED']=str(seed_value)\n",
    "\n",
    "random.seed(seed_value)"
   ],
   "outputs": [],
   "metadata": {}
  },
  {
   "cell_type": "code",
   "execution_count": 71,
   "source": [
    "df=pd.read_csv(\"/Users/abhinavshinow/Documents/GitHub/Mal_URL/Data/mal_1.csv\")\n",
    "df2=pd.read_csv(\"/Users/abhinavshinow/Documents/GitHub/Mal_URL/Data/mal_2.csv\")\n",
    "df3=pd.read_csv(\"/Users/abhinavshinow/Documents/GitHub/Mal_URL/Data/mal_3.csv\")"
   ],
   "outputs": [],
   "metadata": {}
  },
  {
   "cell_type": "code",
   "execution_count": 72,
   "source": [
    "df.head()"
   ],
   "outputs": [
    {
     "output_type": "execute_result",
     "data": {
      "text/html": [
       "<div>\n",
       "<style scoped>\n",
       "    .dataframe tbody tr th:only-of-type {\n",
       "        vertical-align: middle;\n",
       "    }\n",
       "\n",
       "    .dataframe tbody tr th {\n",
       "        vertical-align: top;\n",
       "    }\n",
       "\n",
       "    .dataframe thead th {\n",
       "        text-align: right;\n",
       "    }\n",
       "</style>\n",
       "<table border=\"1\" class=\"dataframe\">\n",
       "  <thead>\n",
       "    <tr style=\"text-align: right;\">\n",
       "      <th></th>\n",
       "      <th>url</th>\n",
       "      <th>type</th>\n",
       "    </tr>\n",
       "  </thead>\n",
       "  <tbody>\n",
       "    <tr>\n",
       "      <th>0</th>\n",
       "      <td>br-icloud.com.br</td>\n",
       "      <td>phishing</td>\n",
       "    </tr>\n",
       "    <tr>\n",
       "      <th>1</th>\n",
       "      <td>mp3raid.com/music/krizz_kaliko.html</td>\n",
       "      <td>benign</td>\n",
       "    </tr>\n",
       "    <tr>\n",
       "      <th>2</th>\n",
       "      <td>bopsecrets.org/rexroth/cr/1.htm</td>\n",
       "      <td>benign</td>\n",
       "    </tr>\n",
       "    <tr>\n",
       "      <th>3</th>\n",
       "      <td>http://www.garage-pirenne.be/index.php?option=...</td>\n",
       "      <td>defacement</td>\n",
       "    </tr>\n",
       "    <tr>\n",
       "      <th>4</th>\n",
       "      <td>http://adventure-nicaragua.net/index.php?optio...</td>\n",
       "      <td>defacement</td>\n",
       "    </tr>\n",
       "  </tbody>\n",
       "</table>\n",
       "</div>"
      ],
      "text/plain": [
       "                                                 url        type\n",
       "0                                   br-icloud.com.br    phishing\n",
       "1                mp3raid.com/music/krizz_kaliko.html      benign\n",
       "2                    bopsecrets.org/rexroth/cr/1.htm      benign\n",
       "3  http://www.garage-pirenne.be/index.php?option=...  defacement\n",
       "4  http://adventure-nicaragua.net/index.php?optio...  defacement"
      ]
     },
     "metadata": {},
     "execution_count": 72
    }
   ],
   "metadata": {}
  },
  {
   "cell_type": "code",
   "execution_count": 73,
   "source": [
    "df2.head()"
   ],
   "outputs": [
    {
     "output_type": "execute_result",
     "data": {
      "text/html": [
       "<div>\n",
       "<style scoped>\n",
       "    .dataframe tbody tr th:only-of-type {\n",
       "        vertical-align: middle;\n",
       "    }\n",
       "\n",
       "    .dataframe tbody tr th {\n",
       "        vertical-align: top;\n",
       "    }\n",
       "\n",
       "    .dataframe thead th {\n",
       "        text-align: right;\n",
       "    }\n",
       "</style>\n",
       "<table border=\"1\" class=\"dataframe\">\n",
       "  <thead>\n",
       "    <tr style=\"text-align: right;\">\n",
       "      <th></th>\n",
       "      <th>Unnamed: 0</th>\n",
       "      <th>url</th>\n",
       "      <th>label</th>\n",
       "      <th>result</th>\n",
       "    </tr>\n",
       "  </thead>\n",
       "  <tbody>\n",
       "    <tr>\n",
       "      <th>0</th>\n",
       "      <td>0</td>\n",
       "      <td>https://www.google.com</td>\n",
       "      <td>benign</td>\n",
       "      <td>0</td>\n",
       "    </tr>\n",
       "    <tr>\n",
       "      <th>1</th>\n",
       "      <td>1</td>\n",
       "      <td>https://www.youtube.com</td>\n",
       "      <td>benign</td>\n",
       "      <td>0</td>\n",
       "    </tr>\n",
       "    <tr>\n",
       "      <th>2</th>\n",
       "      <td>2</td>\n",
       "      <td>https://www.facebook.com</td>\n",
       "      <td>benign</td>\n",
       "      <td>0</td>\n",
       "    </tr>\n",
       "    <tr>\n",
       "      <th>3</th>\n",
       "      <td>3</td>\n",
       "      <td>https://www.baidu.com</td>\n",
       "      <td>benign</td>\n",
       "      <td>0</td>\n",
       "    </tr>\n",
       "    <tr>\n",
       "      <th>4</th>\n",
       "      <td>4</td>\n",
       "      <td>https://www.wikipedia.org</td>\n",
       "      <td>benign</td>\n",
       "      <td>0</td>\n",
       "    </tr>\n",
       "  </tbody>\n",
       "</table>\n",
       "</div>"
      ],
      "text/plain": [
       "   Unnamed: 0                        url   label  result\n",
       "0           0     https://www.google.com  benign       0\n",
       "1           1    https://www.youtube.com  benign       0\n",
       "2           2   https://www.facebook.com  benign       0\n",
       "3           3      https://www.baidu.com  benign       0\n",
       "4           4  https://www.wikipedia.org  benign       0"
      ]
     },
     "metadata": {},
     "execution_count": 73
    }
   ],
   "metadata": {}
  },
  {
   "cell_type": "code",
   "execution_count": 74,
   "source": [
    "df3.head()"
   ],
   "outputs": [
    {
     "output_type": "execute_result",
     "data": {
      "text/html": [
       "<div>\n",
       "<style scoped>\n",
       "    .dataframe tbody tr th:only-of-type {\n",
       "        vertical-align: middle;\n",
       "    }\n",
       "\n",
       "    .dataframe tbody tr th {\n",
       "        vertical-align: top;\n",
       "    }\n",
       "\n",
       "    .dataframe thead th {\n",
       "        text-align: right;\n",
       "    }\n",
       "</style>\n",
       "<table border=\"1\" class=\"dataframe\">\n",
       "  <thead>\n",
       "    <tr style=\"text-align: right;\">\n",
       "      <th></th>\n",
       "      <th>url</th>\n",
       "      <th>label</th>\n",
       "    </tr>\n",
       "  </thead>\n",
       "  <tbody>\n",
       "    <tr>\n",
       "      <th>0</th>\n",
       "      <td>diaryofagameaddict.com</td>\n",
       "      <td>bad</td>\n",
       "    </tr>\n",
       "    <tr>\n",
       "      <th>1</th>\n",
       "      <td>espdesign.com.au</td>\n",
       "      <td>bad</td>\n",
       "    </tr>\n",
       "    <tr>\n",
       "      <th>2</th>\n",
       "      <td>iamagameaddict.com</td>\n",
       "      <td>bad</td>\n",
       "    </tr>\n",
       "    <tr>\n",
       "      <th>3</th>\n",
       "      <td>kalantzis.net</td>\n",
       "      <td>bad</td>\n",
       "    </tr>\n",
       "    <tr>\n",
       "      <th>4</th>\n",
       "      <td>slightlyoffcenter.net</td>\n",
       "      <td>bad</td>\n",
       "    </tr>\n",
       "  </tbody>\n",
       "</table>\n",
       "</div>"
      ],
      "text/plain": [
       "                      url label\n",
       "0  diaryofagameaddict.com   bad\n",
       "1        espdesign.com.au   bad\n",
       "2      iamagameaddict.com   bad\n",
       "3           kalantzis.net   bad\n",
       "4   slightlyoffcenter.net   bad"
      ]
     },
     "metadata": {},
     "execution_count": 74
    }
   ],
   "metadata": {}
  },
  {
   "cell_type": "code",
   "execution_count": 75,
   "source": [
    "df.info()"
   ],
   "outputs": [
    {
     "output_type": "stream",
     "name": "stdout",
     "text": [
      "<class 'pandas.core.frame.DataFrame'>\n",
      "RangeIndex: 651191 entries, 0 to 651190\n",
      "Data columns (total 2 columns):\n",
      " #   Column  Non-Null Count   Dtype \n",
      "---  ------  --------------   ----- \n",
      " 0   url     651191 non-null  object\n",
      " 1   type    651191 non-null  object\n",
      "dtypes: object(2)\n",
      "memory usage: 9.9+ MB\n"
     ]
    }
   ],
   "metadata": {}
  },
  {
   "cell_type": "code",
   "execution_count": 76,
   "source": [
    "df.describe()"
   ],
   "outputs": [
    {
     "output_type": "execute_result",
     "data": {
      "text/html": [
       "<div>\n",
       "<style scoped>\n",
       "    .dataframe tbody tr th:only-of-type {\n",
       "        vertical-align: middle;\n",
       "    }\n",
       "\n",
       "    .dataframe tbody tr th {\n",
       "        vertical-align: top;\n",
       "    }\n",
       "\n",
       "    .dataframe thead th {\n",
       "        text-align: right;\n",
       "    }\n",
       "</style>\n",
       "<table border=\"1\" class=\"dataframe\">\n",
       "  <thead>\n",
       "    <tr style=\"text-align: right;\">\n",
       "      <th></th>\n",
       "      <th>url</th>\n",
       "      <th>type</th>\n",
       "    </tr>\n",
       "  </thead>\n",
       "  <tbody>\n",
       "    <tr>\n",
       "      <th>count</th>\n",
       "      <td>651191</td>\n",
       "      <td>651191</td>\n",
       "    </tr>\n",
       "    <tr>\n",
       "      <th>unique</th>\n",
       "      <td>641119</td>\n",
       "      <td>4</td>\n",
       "    </tr>\n",
       "    <tr>\n",
       "      <th>top</th>\n",
       "      <td>http://style.org.hc360.com/css/detail/mysite/s...</td>\n",
       "      <td>benign</td>\n",
       "    </tr>\n",
       "    <tr>\n",
       "      <th>freq</th>\n",
       "      <td>180</td>\n",
       "      <td>428103</td>\n",
       "    </tr>\n",
       "  </tbody>\n",
       "</table>\n",
       "</div>"
      ],
      "text/plain": [
       "                                                      url    type\n",
       "count                                              651191  651191\n",
       "unique                                             641119       4\n",
       "top     http://style.org.hc360.com/css/detail/mysite/s...  benign\n",
       "freq                                                  180  428103"
      ]
     },
     "metadata": {},
     "execution_count": 76
    }
   ],
   "metadata": {}
  },
  {
   "cell_type": "code",
   "execution_count": 77,
   "source": [
    "df2.info()"
   ],
   "outputs": [
    {
     "output_type": "stream",
     "name": "stdout",
     "text": [
      "<class 'pandas.core.frame.DataFrame'>\n",
      "RangeIndex: 450176 entries, 0 to 450175\n",
      "Data columns (total 4 columns):\n",
      " #   Column      Non-Null Count   Dtype \n",
      "---  ------      --------------   ----- \n",
      " 0   Unnamed: 0  450176 non-null  int64 \n",
      " 1   url         450176 non-null  object\n",
      " 2   label       450176 non-null  object\n",
      " 3   result      450176 non-null  int64 \n",
      "dtypes: int64(2), object(2)\n",
      "memory usage: 13.7+ MB\n"
     ]
    }
   ],
   "metadata": {}
  },
  {
   "cell_type": "code",
   "execution_count": 78,
   "source": [
    "df2.describe()"
   ],
   "outputs": [
    {
     "output_type": "execute_result",
     "data": {
      "text/html": [
       "<div>\n",
       "<style scoped>\n",
       "    .dataframe tbody tr th:only-of-type {\n",
       "        vertical-align: middle;\n",
       "    }\n",
       "\n",
       "    .dataframe tbody tr th {\n",
       "        vertical-align: top;\n",
       "    }\n",
       "\n",
       "    .dataframe thead th {\n",
       "        text-align: right;\n",
       "    }\n",
       "</style>\n",
       "<table border=\"1\" class=\"dataframe\">\n",
       "  <thead>\n",
       "    <tr style=\"text-align: right;\">\n",
       "      <th></th>\n",
       "      <th>Unnamed: 0</th>\n",
       "      <th>result</th>\n",
       "    </tr>\n",
       "  </thead>\n",
       "  <tbody>\n",
       "    <tr>\n",
       "      <th>count</th>\n",
       "      <td>450176.000000</td>\n",
       "      <td>450176.000000</td>\n",
       "    </tr>\n",
       "    <tr>\n",
       "      <th>mean</th>\n",
       "      <td>225087.500000</td>\n",
       "      <td>0.231994</td>\n",
       "    </tr>\n",
       "    <tr>\n",
       "      <th>std</th>\n",
       "      <td>129954.761728</td>\n",
       "      <td>0.422105</td>\n",
       "    </tr>\n",
       "    <tr>\n",
       "      <th>min</th>\n",
       "      <td>0.000000</td>\n",
       "      <td>0.000000</td>\n",
       "    </tr>\n",
       "    <tr>\n",
       "      <th>25%</th>\n",
       "      <td>112543.750000</td>\n",
       "      <td>0.000000</td>\n",
       "    </tr>\n",
       "    <tr>\n",
       "      <th>50%</th>\n",
       "      <td>225087.500000</td>\n",
       "      <td>0.000000</td>\n",
       "    </tr>\n",
       "    <tr>\n",
       "      <th>75%</th>\n",
       "      <td>337631.250000</td>\n",
       "      <td>0.000000</td>\n",
       "    </tr>\n",
       "    <tr>\n",
       "      <th>max</th>\n",
       "      <td>450175.000000</td>\n",
       "      <td>1.000000</td>\n",
       "    </tr>\n",
       "  </tbody>\n",
       "</table>\n",
       "</div>"
      ],
      "text/plain": [
       "          Unnamed: 0         result\n",
       "count  450176.000000  450176.000000\n",
       "mean   225087.500000       0.231994\n",
       "std    129954.761728       0.422105\n",
       "min         0.000000       0.000000\n",
       "25%    112543.750000       0.000000\n",
       "50%    225087.500000       0.000000\n",
       "75%    337631.250000       0.000000\n",
       "max    450175.000000       1.000000"
      ]
     },
     "metadata": {},
     "execution_count": 78
    }
   ],
   "metadata": {}
  },
  {
   "cell_type": "code",
   "execution_count": 79,
   "source": [
    "df3.info()"
   ],
   "outputs": [
    {
     "output_type": "stream",
     "name": "stdout",
     "text": [
      "<class 'pandas.core.frame.DataFrame'>\n",
      "RangeIndex: 420464 entries, 0 to 420463\n",
      "Data columns (total 2 columns):\n",
      " #   Column  Non-Null Count   Dtype \n",
      "---  ------  --------------   ----- \n",
      " 0   url     420464 non-null  object\n",
      " 1   label   420464 non-null  object\n",
      "dtypes: object(2)\n",
      "memory usage: 6.4+ MB\n"
     ]
    }
   ],
   "metadata": {}
  },
  {
   "cell_type": "code",
   "execution_count": 80,
   "source": [
    "df3.describe()"
   ],
   "outputs": [
    {
     "output_type": "execute_result",
     "data": {
      "text/html": [
       "<div>\n",
       "<style scoped>\n",
       "    .dataframe tbody tr th:only-of-type {\n",
       "        vertical-align: middle;\n",
       "    }\n",
       "\n",
       "    .dataframe tbody tr th {\n",
       "        vertical-align: top;\n",
       "    }\n",
       "\n",
       "    .dataframe thead th {\n",
       "        text-align: right;\n",
       "    }\n",
       "</style>\n",
       "<table border=\"1\" class=\"dataframe\">\n",
       "  <thead>\n",
       "    <tr style=\"text-align: right;\">\n",
       "      <th></th>\n",
       "      <th>url</th>\n",
       "      <th>label</th>\n",
       "    </tr>\n",
       "  </thead>\n",
       "  <tbody>\n",
       "    <tr>\n",
       "      <th>count</th>\n",
       "      <td>420464</td>\n",
       "      <td>420464</td>\n",
       "    </tr>\n",
       "    <tr>\n",
       "      <th>unique</th>\n",
       "      <td>411247</td>\n",
       "      <td>2</td>\n",
       "    </tr>\n",
       "    <tr>\n",
       "      <th>top</th>\n",
       "      <td>d11m2p9mpffp32.cloudfront.net/main/web_zt.exe</td>\n",
       "      <td>good</td>\n",
       "    </tr>\n",
       "    <tr>\n",
       "      <th>freq</th>\n",
       "      <td>27</td>\n",
       "      <td>344821</td>\n",
       "    </tr>\n",
       "  </tbody>\n",
       "</table>\n",
       "</div>"
      ],
      "text/plain": [
       "                                                  url   label\n",
       "count                                          420464  420464\n",
       "unique                                         411247       2\n",
       "top     d11m2p9mpffp32.cloudfront.net/main/web_zt.exe    good\n",
       "freq                                               27  344821"
      ]
     },
     "metadata": {},
     "execution_count": 80
    }
   ],
   "metadata": {}
  },
  {
   "cell_type": "markdown",
   "source": [
    "Preprocessing the data"
   ],
   "metadata": {}
  },
  {
   "cell_type": "code",
   "execution_count": 81,
   "source": [
    "df['type']=df['type'].replace({'phishing':1,'benign':0,'defacement':1,'malware':1})"
   ],
   "outputs": [],
   "metadata": {}
  },
  {
   "cell_type": "code",
   "execution_count": 82,
   "source": [
    "sns.countplot(x='type',data=df, palette='rainbow')\n",
    "plt.show()"
   ],
   "outputs": [
    {
     "output_type": "display_data",
     "data": {
      "image/png": "[encoded data removed]",
      "text/plain": [
       "<Figure size 432x288 with 1 Axes>"
      ]
     },
     "metadata": {
      "needs_background": "light"
     }
    }
   ],
   "metadata": {}
  },
  {
   "cell_type": "code",
   "execution_count": 83,
   "source": [
    "df2.drop(df2.columns[df2.columns.str.contains('unnamed',case = False)],axis = 1, inplace = True)\n",
    "df2.drop('label',axis = 1, inplace = True)\n",
    "df2=df2.rename(columns={'result': 'type'})"
   ],
   "outputs": [],
   "metadata": {}
  },
  {
   "cell_type": "code",
   "execution_count": 84,
   "source": [
    "sns.countplot(x='type',data=df2, palette='rainbow')\n",
    "plt.show()"
   ],
   "outputs": [
    {
     "output_type": "display_data",
     "data": {
      "image/png": "[encoded data removed]",
      "text/plain": [
       "<Figure size 432x288 with 1 Axes>"
      ]
     },
     "metadata": {
      "needs_background": "light"
     }
    }
   ],
   "metadata": {}
  },
  {
   "cell_type": "code",
   "execution_count": 85,
   "source": [
    "df3=df3.rename(columns={'label': 'type'})\n",
    "df3['type']=df3['type'].replace({'bad':1,'good':0})"
   ],
   "outputs": [],
   "metadata": {}
  },
  {
   "cell_type": "code",
   "execution_count": 86,
   "source": [
    "sns.countplot(x='type',data=df3, palette='rainbow')\n",
    "plt.show()"
   ],
   "outputs": [
    {
     "output_type": "display_data",
     "data": {
      "image/png": "[encoded data removed]",
      "text/plain": [
       "<Figure size 432x288 with 1 Axes>"
      ]
     },
     "metadata": {
      "needs_background": "light"
     }
    }
   ],
   "metadata": {}
  },
  {
   "cell_type": "code",
   "execution_count": 87,
   "source": [
    "df=df.append(df2)\n",
    "df=df.append(df3)"
   ],
   "outputs": [],
   "metadata": {}
  },
  {
   "cell_type": "code",
   "execution_count": 88,
   "source": [
    "df.drop_duplicates(keep='first',inplace=True)"
   ],
   "outputs": [],
   "metadata": {}
  },
  {
   "cell_type": "code",
   "execution_count": 89,
   "source": [
    "sns.countplot(x='type',data=df, palette='rainbow')\n",
    "plt.show()"
   ],
   "outputs": [
    {
     "output_type": "display_data",
     "data": {
      "image/png": "[encoded data removed]",
      "text/plain": [
       "<Figure size 432x288 with 1 Axes>"
      ]
     },
     "metadata": {
      "needs_background": "light"
     }
    }
   ],
   "metadata": {}
  },
  {
   "cell_type": "code",
   "execution_count": 90,
   "source": [
    "#Feature Extraction methods\n",
    "\n",
    "#returns the length of the url\n",
    "def http(s):\n",
    "    return s.count('http')\n",
    "\n",
    "#returns the count of http in the url\n",
    "def https(s):\n",
    "    return s.count('https')\n",
    "\n",
    "#returns the count of www in the url\n",
    "def www(s):\n",
    "    return s.count('www')\n",
    "\n",
    "#returns the count of digits in the url\n",
    "def digit(s):\n",
    "    return sum(i.isnumeric() for i in s)\n",
    "\n",
    "#returns the count of alphabets in the url\n",
    "def alpha(s):\n",
    "    return sum(i.isalpha() for i in s)\n",
    "\n",
    "#returns the count of special character's in the url\n",
    "def spec_char(s):\n",
    "    return sum((not(i.isalpha()) and not(i.isnumeric())) for i in s)\n",
    "\n",
    "#returns the count of / in the url\n",
    "def spec_char_1(s):\n",
    "    return s.count('/')\n",
    "\n",
    "#returns the count of ! in the url\n",
    "def spec_char_2(s):\n",
    "    return s.count('!')\n",
    "\n",
    "#returns the count of . in the url\n",
    "def spec_char_3(s):\n",
    "    return s.count('.')\n",
    "\n",
    "#returns the count of @ in the url    \n",
    "def spec_char_4(s):\n",
    "    return s.count('@')\n",
    "\n",
    "#returns the count of % in the url\n",
    "def spec_char_5(s):\n",
    "    return s.count('%')\n",
    "\n",
    "#returns the count of ? in the url\n",
    "def spec_char_6(s):\n",
    "    return s.count('?')\n",
    "\n",
    "#returns the count of = in the url\n",
    "def spec_char_7(s):\n",
    "    return s.count('=')\n",
    "\n",
    "#returns the count of + in the url\n",
    "def spec_char_8(s):\n",
    "    return s.count('+')\n",
    "\n",
    "#returns the count of - in the url\n",
    "def spec_char_9(s):\n",
    "    return s.count('-')\n",
    "\n",
    "#returns the count of & in the url\n",
    "def spec_char_10(s):\n",
    "    return s.count('&')\n",
    "\n",
    "def query_length(s):\n",
    "    return len(urlparse(s).query)\n",
    "\n",
    "#returns the domain of the url\n",
    "def dom_suffix(s):\n",
    "    domains={'com':1,'edu':2,'org':3,'net':4,'onion':5,'in':6}\n",
    "    s=tldextract.extract(s).suffix\n",
    "    if s in domains.keys():\n",
    "        return domains[s]\n",
    "    else:\n",
    "        return 0\n",
    "\n",
    "#returns the length of the domain\n",
    "def dom_length(s):\n",
    "    return len(tldextract.extract(s).domain)\n",
    "\n",
    "\n",
    "#returns the length of the sub_domain\n",
    "def subdom_length(s):\n",
    "    return len(tldextract.extract(s).subdomain)\n",
    "\n",
    "#returns the length of the url path\n",
    "def path_length(s):\n",
    "    return len(urlparse(s).path)\n",
    "\n",
    "#returns 1 if url contains a query\n",
    "def has_query(s):\n",
    "    if len(urlparse(s).query)==0:\n",
    "        return 0\n",
    "    else:\n",
    "        return 1\n",
    "\n",
    "def ip(s):\n",
    "    has_ip=re.search('(([01]?\\\\d\\\\d?|2[0-4]\\\\d|25[0-5])\\\\.([01]?\\\\d\\\\d?|2[0-4]\\\\d|25[0-5])\\\\.([01]?\\\\d\\\\d?|2[0-4]\\\\d|25[0-5])\\\\.'\n",
    "    '([01]?\\\\d\\\\d?|2[0-4]\\\\d|25[0-5])\\\\/)|'  # IPv4\n",
    "    '((0x[0-9a-fA-F]{1,2})\\\\.(0x[0-9a-fA-F]{1,2})\\\\.(0x[0-9a-fA-F]{1,2})\\\\.(0x[0-9a-fA-F]{1,2})\\\\/)' # IPv4 in hexadecimal\n",
    "    '(?:[a-fA-F0-9]{1,4}:){7}[a-fA-F0-9]{1,4}', s)\n",
    "    if has_ip:\n",
    "        return 1\n",
    "    else:\n",
    "        return 0\n",
    "\n",
    "#.php .EXE .html .htm .txt .avi .jar .js\n",
    "def extension(s):\n",
    "    #domains={'.htm':1,'.html':2,'.js':3,'.css':4,'.exe':5,}\n",
    "    if '.htm' in s:\n",
    "        return 1\n",
    "    elif '.html' in s:\n",
    "        return 2\n",
    "    elif '.js' in s:\n",
    "        return 3\n",
    "    elif '.css' in s:\n",
    "        return 4\n",
    "    elif '.exe' in s:\n",
    "        return 5\n",
    "    elif '.php' in s:\n",
    "        return 6\n",
    "    elif '.py' in s:\n",
    "        return 7\n",
    "    else:\n",
    "        return 0\n",
    "#remove youtube links -- youtube.com/watch--pending"
   ],
   "outputs": [],
   "metadata": {}
  },
  {
   "cell_type": "code",
   "execution_count": 91,
   "source": [
    "#Extracting the feautures\n",
    "\n",
    "df['len']=df['url'].apply(lambda s : len(str(s)))\n",
    "\n",
    "df['http_count']=df['url'].apply(lambda s : http(s))\n",
    "\n",
    "df['https_count']=df['url'].apply(lambda s : https(s))\n",
    "\n",
    "df['www']=df['url'].apply(lambda s : www(s))\n",
    "\n",
    "df['digit_count']=df['url'].apply(lambda s: digit(s))\n",
    "\n",
    "df['alpha_count']=df['url'].apply(lambda s: alpha(s))\n",
    "\n",
    "df['spec_char_count']=df['url'].apply(lambda s: spec_char(s))\n",
    "\n",
    "df['/']=df['url'].apply(lambda s: spec_char_1(s))\n",
    "\n",
    "df['!']=df['url'].apply(lambda s: spec_char_2(s))\n",
    "\n",
    "df['.']=df['url'].apply(lambda s: spec_char_3(s))\n",
    "\n",
    "df['@']=df['url'].apply(lambda s: spec_char_4(s))\n",
    "\n",
    "df['%']=df['url'].apply(lambda s: spec_char_5(s))\n",
    "\n",
    "df['?']=df['url'].apply(lambda s: spec_char_6(s))\n",
    "\n",
    "df['=']=df['url'].apply(lambda s: spec_char_7(s))\n",
    "\n",
    "df['+']=df['url'].apply(lambda s: spec_char_8(s))\n",
    "\n",
    "df['-']=df['url'].apply(lambda s: spec_char_9(s))\n",
    "\n",
    "df['dom_suffix']=df['url'].apply(lambda s: dom_suffix(s))\n",
    "\n",
    "df['dom_length']=df['url'].apply(lambda s: dom_length(s))\n",
    "\n",
    "df['subdom_length']=df['url'].apply(lambda s: subdom_length(s))\n",
    "\n",
    "df['query']=df['url'].apply(lambda s: has_query(s))\n",
    "\n",
    "df['extension']=df['url'].apply(lambda s: extension(s))\n",
    "\n",
    "df['ip']=df['url'].apply(lambda s: ip(s))\n",
    "\n",
    "df.drop('url',axis = 1, inplace = True)"
   ],
   "outputs": [],
   "metadata": {}
  },
  {
   "cell_type": "code",
   "execution_count": 92,
   "source": [
    "plot=sns.countplot(x='http_count',data=df, palette='rainbow')\n",
    "plot.set(ylim=(0, 100))\n",
    "plt.show()"
   ],
   "outputs": [
    {
     "output_type": "display_data",
     "data": {
      "image/png": "[encoded data removed]",
      "text/plain": [
       "<Figure size 432x288 with 1 Axes>"
      ]
     },
     "metadata": {
      "needs_background": "light"
     }
    }
   ],
   "metadata": {}
  },
  {
   "cell_type": "code",
   "execution_count": 93,
   "source": [
    "plot=sns.countplot(x='https_count',data=df, palette='rainbow')\n",
    "plot.set(ylim=(0, 100))\n",
    "plt.show()"
   ],
   "outputs": [
    {
     "output_type": "display_data",
     "data": {
      "image/png": "[encoded data removed]",
      "text/plain": [
       "<Figure size 432x288 with 1 Axes>"
      ]
     },
     "metadata": {
      "needs_background": "light"
     }
    }
   ],
   "metadata": {}
  },
  {
   "cell_type": "code",
   "execution_count": 94,
   "source": [
    "plot=sns.countplot(x='www',data=df, palette='rainbow')\n",
    "plot.set(ylim=(0, 100))\n",
    "plt.show()"
   ],
   "outputs": [
    {
     "output_type": "display_data",
     "data": {
      "image/png": "[encoded data removed]",
      "text/plain": [
       "<Figure size 432x288 with 1 Axes>"
      ]
     },
     "metadata": {
      "needs_background": "light"
     }
    }
   ],
   "metadata": {}
  },
  {
   "cell_type": "code",
   "execution_count": 95,
   "source": [
    "#Normalising the feauture values to between 0 and 1\n",
    "x=['len','http_count','https_count','www','digit_count','alpha_count','spec_char_count','/','!','.','@','%','?','=','+','-','dom_suffix','dom_length','subdom_length','query','extension','ip']\n",
    "min_max_scaler = preprocessing.MinMaxScaler()\n",
    "column_names_to_normalize = x\n",
    "x = df[column_names_to_normalize].values\n",
    "x_scaled = min_max_scaler.fit_transform(x)\n",
    "df_temp = pd.DataFrame(x_scaled, columns=column_names_to_normalize, index = df.index)\n",
    "df[column_names_to_normalize] = df_temp"
   ],
   "outputs": [],
   "metadata": {}
  },
  {
   "cell_type": "code",
   "execution_count": 96,
   "source": [
    "x=df[['len','http_count','https_count','www','digit_count','alpha_count','spec_char_count','/','!','.','@','%','?','=','+','-','dom_suffix','dom_length','subdom_length','query','extension','ip']]\n",
    "y=df['type']"
   ],
   "outputs": [],
   "metadata": {}
  },
  {
   "cell_type": "code",
   "execution_count": 97,
   "source": [
    "x_train, x_test, y_train, y_test = train_test_split(x,y,test_size=0.2,shuffle='True',stratify=y)"
   ],
   "outputs": [],
   "metadata": {}
  },
  {
   "cell_type": "code",
   "execution_count": 120,
   "source": [
    "#Logistic Regression Classifier\n",
    "model=LogisticRegression(solver='lbfgs',max_iter=1000)\n",
    "model.fit(x_train,y_train)"
   ],
   "outputs": [
    {
     "output_type": "execute_result",
     "data": {
      "text/plain": [
       "LogisticRegression(max_iter=1000)"
      ]
     },
     "metadata": {},
     "execution_count": 120
    }
   ],
   "metadata": {}
  },
  {
   "cell_type": "code",
   "execution_count": 121,
   "source": [
    "model.score(x_test,y_test)"
   ],
   "outputs": [
    {
     "output_type": "execute_result",
     "data": {
      "text/plain": [
       "0.8575615576151612"
      ]
     },
     "metadata": {},
     "execution_count": 121
    }
   ],
   "metadata": {}
  },
  {
   "cell_type": "code",
   "execution_count": 122,
   "source": [
    "pred=model.predict(x_test)"
   ],
   "outputs": [],
   "metadata": {}
  },
  {
   "cell_type": "code",
   "execution_count": 140,
   "source": [
    "#Function to plot the confusion matrix\n",
    "def plot_confusion_matrix(cm, classes,\n",
    "                          normalize=False,\n",
    "                          title='Confusion matrix',\n",
    "                          cmap=plt.cm.Blues):\n",
    "\n",
    "    plt.imshow(cm, interpolation='nearest', cmap=cmap)\n",
    "    plt.title(title)\n",
    "    plt.colorbar()\n",
    "    tick_marks = np.arange(len(classes))\n",
    "    plt.xticks(tick_marks, classes, rotation=45)\n",
    "    plt.yticks(tick_marks, classes)\n",
    "    \n",
    "    thresh = cm.max() / 2.\n",
    "    for i, j in itertools.product(range(cm.shape[0]), range(cm.shape[1])):\n",
    "        plt.text(j, i, cm[i, j],\n",
    "                 horizontalalignment=\"center\",\n",
    "                 color=\"white\" if cm[i, j] > thresh else \"black\")\n",
    "\n",
    "    plt.tight_layout()\n",
    "    plt.ylabel('True label')\n",
    "    plt.xlabel('Predicted label')"
   ],
   "outputs": [],
   "metadata": {}
  },
  {
   "cell_type": "code",
   "execution_count": 141,
   "source": [
    "cm = metrics.confusion_matrix(y_test, pred, labels=[0,1])\n",
    "plot_confusion_matrix(cm,classes=['benign','malicious'])"
   ],
   "outputs": [
    {
     "output_type": "display_data",
     "data": {
      "image/png": "[encoded data removed]",
      "text/plain": [
       "<Figure size 432x288 with 2 Axes>"
      ]
     },
     "metadata": {
      "needs_background": "light"
     }
    }
   ],
   "metadata": {}
  },
  {
   "cell_type": "code",
   "execution_count": 126,
   "source": [
    "print(classification_report(y_test,pred))"
   ],
   "outputs": [
    {
     "output_type": "stream",
     "name": "stdout",
     "text": [
      "              precision    recall  f1-score   support\n",
      "\n",
      "           0       0.84      0.97      0.90    154764\n",
      "           1       0.90      0.64      0.75     76564\n",
      "\n",
      "    accuracy                           0.86    231328\n",
      "   macro avg       0.87      0.80      0.82    231328\n",
      "weighted avg       0.86      0.86      0.85    231328\n",
      "\n"
     ]
    }
   ],
   "metadata": {}
  },
  {
   "cell_type": "code",
   "execution_count": 127,
   "source": [
    "#Decision Tree Classifier\n",
    "model_1=DecisionTreeClassifier()\n",
    "model_1.fit(x_train,y_train)"
   ],
   "outputs": [
    {
     "output_type": "execute_result",
     "data": {
      "text/plain": [
       "DecisionTreeClassifier()"
      ]
     },
     "metadata": {},
     "execution_count": 127
    }
   ],
   "metadata": {}
  },
  {
   "cell_type": "code",
   "execution_count": 128,
   "source": [
    "model_1.score(x_test,y_test)"
   ],
   "outputs": [
    {
     "output_type": "execute_result",
     "data": {
      "text/plain": [
       "0.9547957877991423"
      ]
     },
     "metadata": {},
     "execution_count": 128
    }
   ],
   "metadata": {}
  },
  {
   "cell_type": "code",
   "execution_count": 129,
   "source": [
    "pred1=model_1.predict(x_test)"
   ],
   "outputs": [],
   "metadata": {}
  },
  {
   "cell_type": "code",
   "execution_count": 142,
   "source": [
    "cm = metrics.confusion_matrix(y_test, pred1, labels=[0,1])\n",
    "plot_confusion_matrix(cm,classes=['benign','malicious'])"
   ],
   "outputs": [
    {
     "output_type": "display_data",
     "data": {
      "image/png": "[encoded data removed]",
      "text/plain": [
       "<Figure size 432x288 with 2 Axes>"
      ]
     },
     "metadata": {
      "needs_background": "light"
     }
    }
   ],
   "metadata": {}
  },
  {
   "cell_type": "code",
   "execution_count": 131,
   "source": [
    "print(classification_report(y_test,pred1))"
   ],
   "outputs": [
    {
     "output_type": "stream",
     "name": "stdout",
     "text": [
      "              precision    recall  f1-score   support\n",
      "\n",
      "           0       0.96      0.97      0.97    154764\n",
      "           1       0.94      0.93      0.93     76564\n",
      "\n",
      "    accuracy                           0.95    231328\n",
      "   macro avg       0.95      0.95      0.95    231328\n",
      "weighted avg       0.95      0.95      0.95    231328\n",
      "\n"
     ]
    }
   ],
   "metadata": {}
  },
  {
   "cell_type": "code",
   "execution_count": 176,
   "source": [
    "#Feature Importance\n",
    "w=model_1.feature_importances_"
   ],
   "outputs": [],
   "metadata": {}
  },
  {
   "cell_type": "code",
   "execution_count": 184,
   "source": [
    "feature_names=['len','http_count','https_count','www','digit_count','alpha_count','spec_char_count','/','!','.','@','%','?','=','+','-','dom_suffix','dom_length','subdom_length','query','extension','ip']\n",
    "feature_importance = pd.DataFrame(feature_names, columns = [\"feature\"])\n",
    "feature_importance[\"importance\"] = w\n",
    "feature_importance = feature_importance.sort_values(by = [\"importance\"], ascending=False)\n",
    " \n",
    "#ax = feature_importance.plot.barh(x='feature', y='importance')\n",
    "plt.figure(figsize = (35,10))\n",
    "s = sns.barplot(x='feature', y='importance',data=feature_importance)\n",
    "s.set_yticklabels(s.get_yticklabels())\n",
    "plt.show()"
   ],
   "outputs": [
    {
     "output_type": "stream",
     "name": "stderr",
     "text": [
      "<ipython-input-184-8974a0b86d82>:9: UserWarning: FixedFormatter should only be used together with FixedLocator\n",
      "  s.set_yticklabels(s.get_yticklabels())\n"
     ]
    },
    {
     "output_type": "display_data",
     "data": {
      "image/png": "[encoded data removed]",
      "text/plain": [
       "<Figure size 2520x720 with 1 Axes>"
      ]
     },
     "metadata": {
      "needs_background": "light"
     }
    }
   ],
   "metadata": {}
  },
  {
   "cell_type": "code",
   "execution_count": 135,
   "source": [
    "#Lgbm Classifier\n",
    "model_2=lgb.LGBMClassifier()\n",
    "model_2.fit(x_train,y_train)"
   ],
   "outputs": [
    {
     "output_type": "execute_result",
     "data": {
      "text/plain": [
       "LGBMClassifier()"
      ]
     },
     "metadata": {},
     "execution_count": 135
    }
   ],
   "metadata": {}
  },
  {
   "cell_type": "code",
   "execution_count": 136,
   "source": [
    "model_2.score(x_test,y_test)"
   ],
   "outputs": [
    {
     "output_type": "execute_result",
     "data": {
      "text/plain": [
       "0.9449742357172499"
      ]
     },
     "metadata": {},
     "execution_count": 136
    }
   ],
   "metadata": {}
  },
  {
   "cell_type": "code",
   "execution_count": 137,
   "source": [
    "pred2=model_2.predict(x_test)"
   ],
   "outputs": [],
   "metadata": {}
  },
  {
   "cell_type": "code",
   "execution_count": 143,
   "source": [
    "cm = metrics.confusion_matrix(y_test, pred2, labels=[0,1])\n",
    "plot_confusion_matrix(cm,classes=['benign','malicious'])"
   ],
   "outputs": [
    {
     "output_type": "display_data",
     "data": {
      "image/png": "[encoded data removed]",
      "text/plain": [
       "<Figure size 432x288 with 2 Axes>"
      ]
     },
     "metadata": {
      "needs_background": "light"
     }
    }
   ],
   "metadata": {}
  },
  {
   "cell_type": "code",
   "execution_count": 139,
   "source": [
    "print(classification_report(y_test,pred2))"
   ],
   "outputs": [
    {
     "output_type": "stream",
     "name": "stdout",
     "text": [
      "              precision    recall  f1-score   support\n",
      "\n",
      "           0       0.94      0.98      0.96    154764\n",
      "           1       0.95      0.88      0.91     76564\n",
      "\n",
      "    accuracy                           0.94    231328\n",
      "   macro avg       0.95      0.93      0.94    231328\n",
      "weighted avg       0.95      0.94      0.94    231328\n",
      "\n"
     ]
    }
   ],
   "metadata": {}
  },
  {
   "cell_type": "code",
   "execution_count": 185,
   "source": [
    "w_2=model_2.feature_importances_"
   ],
   "outputs": [],
   "metadata": {}
  },
  {
   "cell_type": "code",
   "execution_count": 186,
   "source": [
    "feature_names=['len','http_count','https_count','www','digit_count','alpha_count','spec_char_count','/','!','.','@','%','?','=','+','-','dom_suffix','dom_length','subdom_length','query','extension','ip']\n",
    "feature_importance = pd.DataFrame(feature_names, columns = [\"feature\"])\n",
    "feature_importance[\"importance\"] = w_2\n",
    "feature_importance = feature_importance.sort_values(by = [\"importance\"], ascending=False)\n",
    " \n",
    "#ax = feature_importance.plot.barh(x='feature', y='importance')\n",
    "plt.figure(figsize = (35,10))\n",
    "s = sns.barplot(x='feature', y='importance',data=feature_importance)\n",
    "s.set_yticklabels(s.get_yticklabels())\n",
    "plt.show()"
   ],
   "outputs": [
    {
     "output_type": "stream",
     "name": "stderr",
     "text": [
      "<ipython-input-186-9e4321fa125f>:9: UserWarning: FixedFormatter should only be used together with FixedLocator\n",
      "  s.set_yticklabels(s.get_yticklabels())\n"
     ]
    },
    {
     "output_type": "display_data",
     "data": {
      "image/png": "[encoded data removed]",
      "text/plain": [
       "<Figure size 2520x720 with 1 Axes>"
      ]
     },
     "metadata": {
      "needs_background": "light"
     }
    }
   ],
   "metadata": {}
  },
  {
   "cell_type": "code",
   "execution_count": 155,
   "source": [
    "#XgBoost Classifier\n",
    "model_3=xgb.XGBClassifier()\n",
    "model_3.fit(x_train,y_train)"
   ],
   "outputs": [
    {
     "output_type": "stream",
     "name": "stderr",
     "text": [
      "/opt/homebrew/Caskroom/miniforge/base/envs/tensorflow/lib/python3.9/site-packages/xgboost/sklearn.py:888: UserWarning: The use of label encoder in XGBClassifier is deprecated and will be removed in a future release. To remove this warning, do the following: 1) Pass option use_label_encoder=False when constructing XGBClassifier object; and 2) Encode your labels (y) as integers starting with 0, i.e. 0, 1, 2, ..., [num_class - 1].\n",
      "  warnings.warn(label_encoder_deprecation_msg, UserWarning)\n"
     ]
    },
    {
     "output_type": "stream",
     "name": "stdout",
     "text": [
      "[19:23:07] WARNING: /Users/ktietz/demo/mc3/conda-bld/xgboost-split_1628682908089/work/src/learner.cc:1061: Starting in XGBoost 1.3.0, the default evaluation metric used with the objective 'binary:logistic' was changed from 'error' to 'logloss'. Explicitly set eval_metric if you'd like to restore the old behavior.\n"
     ]
    },
    {
     "output_type": "execute_result",
     "data": {
      "text/plain": [
       "XGBClassifier(base_score=0.5, booster='gbtree', colsample_bylevel=1,\n",
       "              colsample_bynode=1, colsample_bytree=1, gamma=0, gpu_id=-1,\n",
       "              importance_type='gain', interaction_constraints='',\n",
       "              learning_rate=0.300000012, max_delta_step=0, max_depth=6,\n",
       "              min_child_weight=1, missing=nan, monotone_constraints='()',\n",
       "              n_estimators=100, n_jobs=8, num_parallel_tree=1, random_state=0,\n",
       "              reg_alpha=0, reg_lambda=1, scale_pos_weight=1, subsample=1,\n",
       "              tree_method='exact', validate_parameters=1, verbosity=None)"
      ]
     },
     "metadata": {},
     "execution_count": 155
    }
   ],
   "metadata": {}
  },
  {
   "cell_type": "code",
   "execution_count": 156,
   "source": [
    "model_3.score(x_test,y_test)"
   ],
   "outputs": [
    {
     "output_type": "execute_result",
     "data": {
      "text/plain": [
       "0.9526602918799281"
      ]
     },
     "metadata": {},
     "execution_count": 156
    }
   ],
   "metadata": {}
  },
  {
   "cell_type": "code",
   "execution_count": 157,
   "source": [
    "pred3=model_3.predict(x_test)"
   ],
   "outputs": [],
   "metadata": {}
  },
  {
   "cell_type": "code",
   "execution_count": 158,
   "source": [
    "cm = metrics.confusion_matrix(y_test, pred3, labels=[0,1])\n",
    "plot_confusion_matrix(cm,classes=['benign','malicious'])"
   ],
   "outputs": [
    {
     "output_type": "display_data",
     "data": {
      "image/png": "[encoded data removed]",
      "text/plain": [
       "<Figure size 432x288 with 2 Axes>"
      ]
     },
     "metadata": {
      "needs_background": "light"
     }
    }
   ],
   "metadata": {}
  },
  {
   "cell_type": "code",
   "execution_count": 188,
   "source": [
    "print(classification_report(y_test,pred3))"
   ],
   "outputs": [
    {
     "output_type": "stream",
     "name": "stdout",
     "text": [
      "              precision    recall  f1-score   support\n",
      "\n",
      "           0       0.95      0.98      0.97    154764\n",
      "           1       0.95      0.90      0.93     76564\n",
      "\n",
      "    accuracy                           0.95    231328\n",
      "   macro avg       0.95      0.94      0.95    231328\n",
      "weighted avg       0.95      0.95      0.95    231328\n",
      "\n"
     ]
    }
   ],
   "metadata": {}
  },
  {
   "cell_type": "code",
   "execution_count": 187,
   "source": [
    "w_3=model_3.feature_importances_"
   ],
   "outputs": [],
   "metadata": {}
  },
  {
   "cell_type": "code",
   "execution_count": 200,
   "source": [
    "feature_names=['len','http_count','https_count','www','digit_count','alpha_count','spec_char_count','/','!','.','@','%','?','=','+','-','dom_suffix','dom_length','subdom_length','query','extension','ip']\n",
    "feature_importance = pd.DataFrame(feature_names, columns = [\"feature\"])\n",
    "feature_importance[\"importance\"] = w_3\n",
    "feature_importance = feature_importance.sort_values(by = [\"importance\"], ascending=False)\n",
    " \n",
    "#ax = feature_importance.plot.barh(x='feature', y='importance')\n",
    "plt.figure(figsize = (35,10))\n",
    "s = sns.barplot(x='feature', y='importance',data=feature_importance)\n",
    "s.set_yticklabels(s.get_yticklabels())\n",
    "plt.show()"
   ],
   "outputs": [
    {
     "output_type": "stream",
     "name": "stderr",
     "text": [
      "<ipython-input-200-05f218b67ee8>:9: UserWarning: FixedFormatter should only be used together with FixedLocator\n",
      "  s.set_yticklabels(s.get_yticklabels())\n"
     ]
    },
    {
     "output_type": "display_data",
     "data": {
      "image/png": "[encoded data removed]",
      "text/plain": [
       "<Figure size 2520x720 with 1 Axes>"
      ]
     },
     "metadata": {
      "needs_background": "light"
     }
    }
   ],
   "metadata": {}
  },
  {
   "cell_type": "code",
   "execution_count": 190,
   "source": [
    "#Random Forest Classifier\n",
    "model_4=RandomForestClassifier(n_estimators=100)\n",
    "model_4.fit(x_train,y_train)"
   ],
   "outputs": [
    {
     "output_type": "execute_result",
     "data": {
      "text/plain": [
       "RandomForestClassifier()"
      ]
     },
     "metadata": {},
     "execution_count": 190
    }
   ],
   "metadata": {}
  },
  {
   "cell_type": "code",
   "execution_count": 192,
   "source": [
    "model_4.score(x_test,y_test)"
   ],
   "outputs": [
    {
     "output_type": "execute_result",
     "data": {
      "text/plain": [
       "0.9634977175266288"
      ]
     },
     "metadata": {},
     "execution_count": 192
    }
   ],
   "metadata": {}
  },
  {
   "cell_type": "code",
   "execution_count": 193,
   "source": [
    "pred4=model_4.predict(x_test)"
   ],
   "outputs": [],
   "metadata": {}
  },
  {
   "cell_type": "code",
   "execution_count": 194,
   "source": [
    "cm = metrics.confusion_matrix(y_test, pred4, labels=[0,1])\n",
    "plot_confusion_matrix(cm,classes=['benign','malicious'])"
   ],
   "outputs": [
    {
     "output_type": "display_data",
     "data": {
      "image/png": "[encoded data removed]",
      "text/plain": [
       "<Figure size 432x288 with 2 Axes>"
      ]
     },
     "metadata": {
      "needs_background": "light"
     }
    }
   ],
   "metadata": {}
  },
  {
   "cell_type": "code",
   "execution_count": 197,
   "source": [
    "w_4=model_4.feature_importances_"
   ],
   "outputs": [],
   "metadata": {}
  },
  {
   "cell_type": "code",
   "execution_count": 199,
   "source": [
    "print(classification_report(y_test,pred4))"
   ],
   "outputs": [
    {
     "output_type": "stream",
     "name": "stdout",
     "text": [
      "              precision    recall  f1-score   support\n",
      "\n",
      "           0       0.97      0.98      0.97    154764\n",
      "           1       0.96      0.93      0.94     76564\n",
      "\n",
      "    accuracy                           0.96    231328\n",
      "   macro avg       0.96      0.96      0.96    231328\n",
      "weighted avg       0.96      0.96      0.96    231328\n",
      "\n"
     ]
    }
   ],
   "metadata": {}
  },
  {
   "cell_type": "code",
   "execution_count": 201,
   "source": [
    "feature_names=['len','http_count','https_count','www','digit_count','alpha_count','spec_char_count','/','!','.','@','%','?','=','+','-','dom_suffix','dom_length','subdom_length','query','extension','ip']\n",
    "feature_importance = pd.DataFrame(feature_names, columns = [\"feature\"])\n",
    "feature_importance[\"importance\"] = w_4\n",
    "feature_importance = feature_importance.sort_values(by = [\"importance\"], ascending=False)\n",
    " \n",
    "#ax = feature_importance.plot.barh(x='feature', y='importance')\n",
    "plt.figure(figsize = (35,10))\n",
    "s = sns.barplot(x='feature', y='importance',data=feature_importance)\n",
    "s.set_yticklabels(s.get_yticklabels())"
   ],
   "outputs": [
    {
     "output_type": "stream",
     "name": "stderr",
     "text": [
      "<ipython-input-201-adf470fc5a8d>:9: UserWarning: FixedFormatter should only be used together with FixedLocator\n",
      "  s.set_yticklabels(s.get_yticklabels())\n"
     ]
    },
    {
     "output_type": "execute_result",
     "data": {
      "text/plain": [
       "[Text(0, 0.0, ''),\n",
       " Text(0, 0.02, ''),\n",
       " Text(0, 0.04, ''),\n",
       " Text(0, 0.06, ''),\n",
       " Text(0, 0.08, ''),\n",
       " Text(0, 0.1, ''),\n",
       " Text(0, 0.12, ''),\n",
       " Text(0, 0.14, ''),\n",
       " Text(0, 0.16, ''),\n",
       " Text(0, 0.18, '')]"
      ]
     },
     "metadata": {},
     "execution_count": 201
    },
    {
     "output_type": "display_data",
     "data": {
      "image/png": "[encoded data removed]",
      "text/plain": [
       "<Figure size 2520x720 with 1 Axes>"
      ]
     },
     "metadata": {
      "needs_background": "light"
     }
    }
   ],
   "metadata": {}
  },
  {
   "cell_type": "code",
   "execution_count": null,
   "source": [
    "#SVM Classifier\n"
   ],
   "outputs": [],
   "metadata": {}
  }
 ],
 "metadata": {
  "orig_nbformat": 4,
  "language_info": {
   "name": "python",
   "version": "3.9.7",
   "mimetype": "text/x-python",
   "codemirror_mode": {
    "name": "ipython",
    "version": 3
   },
   "pygments_lexer": "ipython3",
   "nbconvert_exporter": "python",
   "file_extension": ".py"
  },
  "kernelspec": {
   "name": "python3",
   "display_name": "Python 3.9.7 64-bit ('tensorflow': conda)"
  },
  "interpreter": {
   "hash": "96e5d53265b94df340949bd6ef5afdc360b59f503fc29fdfbde1773c536f468a"
  }
 },
 "nbformat": 4,
 "nbformat_minor": 2
}