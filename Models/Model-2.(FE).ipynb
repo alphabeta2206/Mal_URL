{
 "cells": [
  {
   "cell_type": "code",
   "execution_count": 121,
   "source": [
    "import matplotlib.pyplot as plt\n",
    "import seaborn as sns\n",
    "import numpy as np\n",
    "import pandas as pd\n",
    "import re\n",
    "import tensorflow as tf\n",
    "from sklearn.linear_model import LogisticRegression\n",
    "from sklearn.neighbors import KNeighborsClassifier\n",
    "from sklearn.svm import SVC\n",
    "from sklearn.ensemble import RandomForestClassifier\n",
    "from sklearn.naive_bayes import GaussianNB\n",
    "from sklearn import model_selection\n",
    "from sklearn.utils import class_weight\n",
    "from sklearn.metrics import classification_report\n",
    "from sklearn.metrics import confusion_matrix\n",
    "from sklearn.model_selection import train_test_split\n",
    "from sklearn.feature_extraction.text import TfidfVectorizer\n",
    "from sklearn.utils import shuffle\n",
    "from urllib.parse import urlparse\n",
    "from sklearn import preprocessing\n",
    "import tldextract\n",
    "%matplotlib inline\n",
    "import random\n",
    "import gc\n",
    "from sklearn.tree import DecisionTreeClassifier\n",
    "import os\n",
    "import random\n",
    "import lightgbm as lgb\n",
    "from tensorflow import keras\n",
    "from tensorflow.keras.preprocessing.text import Tokenizer\n",
    "from tensorflow.keras.layers import LSTM, Dense, Dropout, Embedding\n",
    "from tensorflow.keras.preprocessing import sequence\n",
    "from tensorflow.keras.models import Sequential\n",
    "from tensorflow.keras.layers import SpatialDropout1D"
   ],
   "outputs": [],
   "metadata": {}
  },
  {
   "cell_type": "code",
   "execution_count": null,
   "source": [
    "#setting a random seed value\n",
    "seed_value=1234\n",
    "\n",
    "os.environ['PYTHONHASHSEED']=str(seed_value)\n",
    "\n",
    "random.seed(seed_value)\n",
    "\n"
   ],
   "outputs": [],
   "metadata": {}
  },
  {
   "cell_type": "code",
   "execution_count": 66,
   "source": [
    "df=pd.read_csv(\"/Users/abhinavshinow/Documents/GitHub/Mal_URL/Data/mal_1.csv\")\n",
    "df2=pd.read_csv(\"/Users/abhinavshinow/Documents/GitHub/Mal_URL/Data/mal_2.csv\")\n",
    "df3=pd.read_csv(\"/Users/abhinavshinow/Documents/GitHub/Mal_URL/Data/mal_3.csv\")"
   ],
   "outputs": [],
   "metadata": {}
  },
  {
   "cell_type": "code",
   "execution_count": 67,
   "source": [
    "df.head()"
   ],
   "outputs": [
    {
     "output_type": "execute_result",
     "data": {
      "text/html": [
       "<div>\n",
       "<style scoped>\n",
       "    .dataframe tbody tr th:only-of-type {\n",
       "        vertical-align: middle;\n",
       "    }\n",
       "\n",
       "    .dataframe tbody tr th {\n",
       "        vertical-align: top;\n",
       "    }\n",
       "\n",
       "    .dataframe thead th {\n",
       "        text-align: right;\n",
       "    }\n",
       "</style>\n",
       "<table border=\"1\" class=\"dataframe\">\n",
       "  <thead>\n",
       "    <tr style=\"text-align: right;\">\n",
       "      <th></th>\n",
       "      <th>url</th>\n",
       "      <th>type</th>\n",
       "    </tr>\n",
       "  </thead>\n",
       "  <tbody>\n",
       "    <tr>\n",
       "      <th>0</th>\n",
       "      <td>br-icloud.com.br</td>\n",
       "      <td>phishing</td>\n",
       "    </tr>\n",
       "    <tr>\n",
       "      <th>1</th>\n",
       "      <td>mp3raid.com/music/krizz_kaliko.html</td>\n",
       "      <td>benign</td>\n",
       "    </tr>\n",
       "    <tr>\n",
       "      <th>2</th>\n",
       "      <td>bopsecrets.org/rexroth/cr/1.htm</td>\n",
       "      <td>benign</td>\n",
       "    </tr>\n",
       "    <tr>\n",
       "      <th>3</th>\n",
       "      <td>http://www.garage-pirenne.be/index.php?option=...</td>\n",
       "      <td>defacement</td>\n",
       "    </tr>\n",
       "    <tr>\n",
       "      <th>4</th>\n",
       "      <td>http://adventure-nicaragua.net/index.php?optio...</td>\n",
       "      <td>defacement</td>\n",
       "    </tr>\n",
       "  </tbody>\n",
       "</table>\n",
       "</div>"
      ],
      "text/plain": [
       "                                                 url        type\n",
       "0                                   br-icloud.com.br    phishing\n",
       "1                mp3raid.com/music/krizz_kaliko.html      benign\n",
       "2                    bopsecrets.org/rexroth/cr/1.htm      benign\n",
       "3  http://www.garage-pirenne.be/index.php?option=...  defacement\n",
       "4  http://adventure-nicaragua.net/index.php?optio...  defacement"
      ]
     },
     "metadata": {},
     "execution_count": 67
    }
   ],
   "metadata": {}
  },
  {
   "cell_type": "code",
   "execution_count": 68,
   "source": [
    "df2.head()"
   ],
   "outputs": [
    {
     "output_type": "execute_result",
     "data": {
      "text/html": [
       "<div>\n",
       "<style scoped>\n",
       "    .dataframe tbody tr th:only-of-type {\n",
       "        vertical-align: middle;\n",
       "    }\n",
       "\n",
       "    .dataframe tbody tr th {\n",
       "        vertical-align: top;\n",
       "    }\n",
       "\n",
       "    .dataframe thead th {\n",
       "        text-align: right;\n",
       "    }\n",
       "</style>\n",
       "<table border=\"1\" class=\"dataframe\">\n",
       "  <thead>\n",
       "    <tr style=\"text-align: right;\">\n",
       "      <th></th>\n",
       "      <th>Unnamed: 0</th>\n",
       "      <th>url</th>\n",
       "      <th>label</th>\n",
       "      <th>result</th>\n",
       "    </tr>\n",
       "  </thead>\n",
       "  <tbody>\n",
       "    <tr>\n",
       "      <th>0</th>\n",
       "      <td>0</td>\n",
       "      <td>https://www.google.com</td>\n",
       "      <td>benign</td>\n",
       "      <td>0</td>\n",
       "    </tr>\n",
       "    <tr>\n",
       "      <th>1</th>\n",
       "      <td>1</td>\n",
       "      <td>https://www.youtube.com</td>\n",
       "      <td>benign</td>\n",
       "      <td>0</td>\n",
       "    </tr>\n",
       "    <tr>\n",
       "      <th>2</th>\n",
       "      <td>2</td>\n",
       "      <td>https://www.facebook.com</td>\n",
       "      <td>benign</td>\n",
       "      <td>0</td>\n",
       "    </tr>\n",
       "    <tr>\n",
       "      <th>3</th>\n",
       "      <td>3</td>\n",
       "      <td>https://www.baidu.com</td>\n",
       "      <td>benign</td>\n",
       "      <td>0</td>\n",
       "    </tr>\n",
       "    <tr>\n",
       "      <th>4</th>\n",
       "      <td>4</td>\n",
       "      <td>https://www.wikipedia.org</td>\n",
       "      <td>benign</td>\n",
       "      <td>0</td>\n",
       "    </tr>\n",
       "  </tbody>\n",
       "</table>\n",
       "</div>"
      ],
      "text/plain": [
       "   Unnamed: 0                        url   label  result\n",
       "0           0     https://www.google.com  benign       0\n",
       "1           1    https://www.youtube.com  benign       0\n",
       "2           2   https://www.facebook.com  benign       0\n",
       "3           3      https://www.baidu.com  benign       0\n",
       "4           4  https://www.wikipedia.org  benign       0"
      ]
     },
     "metadata": {},
     "execution_count": 68
    }
   ],
   "metadata": {}
  },
  {
   "cell_type": "code",
   "execution_count": 69,
   "source": [
    "df3.head()"
   ],
   "outputs": [
    {
     "output_type": "execute_result",
     "data": {
      "text/html": [
       "<div>\n",
       "<style scoped>\n",
       "    .dataframe tbody tr th:only-of-type {\n",
       "        vertical-align: middle;\n",
       "    }\n",
       "\n",
       "    .dataframe tbody tr th {\n",
       "        vertical-align: top;\n",
       "    }\n",
       "\n",
       "    .dataframe thead th {\n",
       "        text-align: right;\n",
       "    }\n",
       "</style>\n",
       "<table border=\"1\" class=\"dataframe\">\n",
       "  <thead>\n",
       "    <tr style=\"text-align: right;\">\n",
       "      <th></th>\n",
       "      <th>url</th>\n",
       "      <th>label</th>\n",
       "    </tr>\n",
       "  </thead>\n",
       "  <tbody>\n",
       "    <tr>\n",
       "      <th>0</th>\n",
       "      <td>diaryofagameaddict.com</td>\n",
       "      <td>bad</td>\n",
       "    </tr>\n",
       "    <tr>\n",
       "      <th>1</th>\n",
       "      <td>espdesign.com.au</td>\n",
       "      <td>bad</td>\n",
       "    </tr>\n",
       "    <tr>\n",
       "      <th>2</th>\n",
       "      <td>iamagameaddict.com</td>\n",
       "      <td>bad</td>\n",
       "    </tr>\n",
       "    <tr>\n",
       "      <th>3</th>\n",
       "      <td>kalantzis.net</td>\n",
       "      <td>bad</td>\n",
       "    </tr>\n",
       "    <tr>\n",
       "      <th>4</th>\n",
       "      <td>slightlyoffcenter.net</td>\n",
       "      <td>bad</td>\n",
       "    </tr>\n",
       "  </tbody>\n",
       "</table>\n",
       "</div>"
      ],
      "text/plain": [
       "                      url label\n",
       "0  diaryofagameaddict.com   bad\n",
       "1        espdesign.com.au   bad\n",
       "2      iamagameaddict.com   bad\n",
       "3           kalantzis.net   bad\n",
       "4   slightlyoffcenter.net   bad"
      ]
     },
     "metadata": {},
     "execution_count": 69
    }
   ],
   "metadata": {}
  },
  {
   "cell_type": "code",
   "execution_count": 70,
   "source": [
    "df.info()"
   ],
   "outputs": [
    {
     "output_type": "stream",
     "name": "stdout",
     "text": [
      "<class 'pandas.core.frame.DataFrame'>\n",
      "RangeIndex: 651191 entries, 0 to 651190\n",
      "Data columns (total 2 columns):\n",
      " #   Column  Non-Null Count   Dtype \n",
      "---  ------  --------------   ----- \n",
      " 0   url     651191 non-null  object\n",
      " 1   type    651191 non-null  object\n",
      "dtypes: object(2)\n",
      "memory usage: 9.9+ MB\n"
     ]
    }
   ],
   "metadata": {}
  },
  {
   "cell_type": "code",
   "execution_count": 71,
   "source": [
    "df.describe()"
   ],
   "outputs": [
    {
     "output_type": "execute_result",
     "data": {
      "text/html": [
       "<div>\n",
       "<style scoped>\n",
       "    .dataframe tbody tr th:only-of-type {\n",
       "        vertical-align: middle;\n",
       "    }\n",
       "\n",
       "    .dataframe tbody tr th {\n",
       "        vertical-align: top;\n",
       "    }\n",
       "\n",
       "    .dataframe thead th {\n",
       "        text-align: right;\n",
       "    }\n",
       "</style>\n",
       "<table border=\"1\" class=\"dataframe\">\n",
       "  <thead>\n",
       "    <tr style=\"text-align: right;\">\n",
       "      <th></th>\n",
       "      <th>url</th>\n",
       "      <th>type</th>\n",
       "    </tr>\n",
       "  </thead>\n",
       "  <tbody>\n",
       "    <tr>\n",
       "      <th>count</th>\n",
       "      <td>651191</td>\n",
       "      <td>651191</td>\n",
       "    </tr>\n",
       "    <tr>\n",
       "      <th>unique</th>\n",
       "      <td>641119</td>\n",
       "      <td>4</td>\n",
       "    </tr>\n",
       "    <tr>\n",
       "      <th>top</th>\n",
       "      <td>http://style.org.hc360.com/css/detail/mysite/s...</td>\n",
       "      <td>benign</td>\n",
       "    </tr>\n",
       "    <tr>\n",
       "      <th>freq</th>\n",
       "      <td>180</td>\n",
       "      <td>428103</td>\n",
       "    </tr>\n",
       "  </tbody>\n",
       "</table>\n",
       "</div>"
      ],
      "text/plain": [
       "                                                      url    type\n",
       "count                                              651191  651191\n",
       "unique                                             641119       4\n",
       "top     http://style.org.hc360.com/css/detail/mysite/s...  benign\n",
       "freq                                                  180  428103"
      ]
     },
     "metadata": {},
     "execution_count": 71
    }
   ],
   "metadata": {}
  },
  {
   "cell_type": "code",
   "execution_count": 72,
   "source": [
    "df2.info()"
   ],
   "outputs": [
    {
     "output_type": "stream",
     "name": "stdout",
     "text": [
      "<class 'pandas.core.frame.DataFrame'>\n",
      "RangeIndex: 450176 entries, 0 to 450175\n",
      "Data columns (total 4 columns):\n",
      " #   Column      Non-Null Count   Dtype \n",
      "---  ------      --------------   ----- \n",
      " 0   Unnamed: 0  450176 non-null  int64 \n",
      " 1   url         450176 non-null  object\n",
      " 2   label       450176 non-null  object\n",
      " 3   result      450176 non-null  int64 \n",
      "dtypes: int64(2), object(2)\n",
      "memory usage: 13.7+ MB\n"
     ]
    }
   ],
   "metadata": {}
  },
  {
   "cell_type": "code",
   "execution_count": 73,
   "source": [
    "df2.describe()"
   ],
   "outputs": [
    {
     "output_type": "execute_result",
     "data": {
      "text/html": [
       "<div>\n",
       "<style scoped>\n",
       "    .dataframe tbody tr th:only-of-type {\n",
       "        vertical-align: middle;\n",
       "    }\n",
       "\n",
       "    .dataframe tbody tr th {\n",
       "        vertical-align: top;\n",
       "    }\n",
       "\n",
       "    .dataframe thead th {\n",
       "        text-align: right;\n",
       "    }\n",
       "</style>\n",
       "<table border=\"1\" class=\"dataframe\">\n",
       "  <thead>\n",
       "    <tr style=\"text-align: right;\">\n",
       "      <th></th>\n",
       "      <th>Unnamed: 0</th>\n",
       "      <th>result</th>\n",
       "    </tr>\n",
       "  </thead>\n",
       "  <tbody>\n",
       "    <tr>\n",
       "      <th>count</th>\n",
       "      <td>450176.000000</td>\n",
       "      <td>450176.000000</td>\n",
       "    </tr>\n",
       "    <tr>\n",
       "      <th>mean</th>\n",
       "      <td>225087.500000</td>\n",
       "      <td>0.231994</td>\n",
       "    </tr>\n",
       "    <tr>\n",
       "      <th>std</th>\n",
       "      <td>129954.761728</td>\n",
       "      <td>0.422105</td>\n",
       "    </tr>\n",
       "    <tr>\n",
       "      <th>min</th>\n",
       "      <td>0.000000</td>\n",
       "      <td>0.000000</td>\n",
       "    </tr>\n",
       "    <tr>\n",
       "      <th>25%</th>\n",
       "      <td>112543.750000</td>\n",
       "      <td>0.000000</td>\n",
       "    </tr>\n",
       "    <tr>\n",
       "      <th>50%</th>\n",
       "      <td>225087.500000</td>\n",
       "      <td>0.000000</td>\n",
       "    </tr>\n",
       "    <tr>\n",
       "      <th>75%</th>\n",
       "      <td>337631.250000</td>\n",
       "      <td>0.000000</td>\n",
       "    </tr>\n",
       "    <tr>\n",
       "      <th>max</th>\n",
       "      <td>450175.000000</td>\n",
       "      <td>1.000000</td>\n",
       "    </tr>\n",
       "  </tbody>\n",
       "</table>\n",
       "</div>"
      ],
      "text/plain": [
       "          Unnamed: 0         result\n",
       "count  450176.000000  450176.000000\n",
       "mean   225087.500000       0.231994\n",
       "std    129954.761728       0.422105\n",
       "min         0.000000       0.000000\n",
       "25%    112543.750000       0.000000\n",
       "50%    225087.500000       0.000000\n",
       "75%    337631.250000       0.000000\n",
       "max    450175.000000       1.000000"
      ]
     },
     "metadata": {},
     "execution_count": 73
    }
   ],
   "metadata": {}
  },
  {
   "cell_type": "code",
   "execution_count": 74,
   "source": [
    "df3.info()"
   ],
   "outputs": [
    {
     "output_type": "stream",
     "name": "stdout",
     "text": [
      "<class 'pandas.core.frame.DataFrame'>\n",
      "RangeIndex: 420464 entries, 0 to 420463\n",
      "Data columns (total 2 columns):\n",
      " #   Column  Non-Null Count   Dtype \n",
      "---  ------  --------------   ----- \n",
      " 0   url     420464 non-null  object\n",
      " 1   label   420464 non-null  object\n",
      "dtypes: object(2)\n",
      "memory usage: 6.4+ MB\n"
     ]
    }
   ],
   "metadata": {}
  },
  {
   "cell_type": "code",
   "execution_count": 75,
   "source": [
    "df3.describe()"
   ],
   "outputs": [
    {
     "output_type": "execute_result",
     "data": {
      "text/html": [
       "<div>\n",
       "<style scoped>\n",
       "    .dataframe tbody tr th:only-of-type {\n",
       "        vertical-align: middle;\n",
       "    }\n",
       "\n",
       "    .dataframe tbody tr th {\n",
       "        vertical-align: top;\n",
       "    }\n",
       "\n",
       "    .dataframe thead th {\n",
       "        text-align: right;\n",
       "    }\n",
       "</style>\n",
       "<table border=\"1\" class=\"dataframe\">\n",
       "  <thead>\n",
       "    <tr style=\"text-align: right;\">\n",
       "      <th></th>\n",
       "      <th>url</th>\n",
       "      <th>label</th>\n",
       "    </tr>\n",
       "  </thead>\n",
       "  <tbody>\n",
       "    <tr>\n",
       "      <th>count</th>\n",
       "      <td>420464</td>\n",
       "      <td>420464</td>\n",
       "    </tr>\n",
       "    <tr>\n",
       "      <th>unique</th>\n",
       "      <td>411247</td>\n",
       "      <td>2</td>\n",
       "    </tr>\n",
       "    <tr>\n",
       "      <th>top</th>\n",
       "      <td>d11m2p9mpffp32.cloudfront.net/main/web_zt.exe</td>\n",
       "      <td>good</td>\n",
       "    </tr>\n",
       "    <tr>\n",
       "      <th>freq</th>\n",
       "      <td>27</td>\n",
       "      <td>344821</td>\n",
       "    </tr>\n",
       "  </tbody>\n",
       "</table>\n",
       "</div>"
      ],
      "text/plain": [
       "                                                  url   label\n",
       "count                                          420464  420464\n",
       "unique                                         411247       2\n",
       "top     d11m2p9mpffp32.cloudfront.net/main/web_zt.exe    good\n",
       "freq                                               27  344821"
      ]
     },
     "metadata": {},
     "execution_count": 75
    }
   ],
   "metadata": {}
  },
  {
   "cell_type": "markdown",
   "source": [
    "Preprocessing the data"
   ],
   "metadata": {}
  },
  {
   "cell_type": "code",
   "execution_count": 76,
   "source": [
    "df['type']=df['type'].replace({'phishing':1,'benign':0,'defacement':1,'malware':1})"
   ],
   "outputs": [],
   "metadata": {}
  },
  {
   "cell_type": "code",
   "execution_count": 77,
   "source": [
    "df2.drop(df2.columns[df2.columns.str.contains('unnamed',case = False)],axis = 1, inplace = True)\n",
    "df2.drop('label',axis = 1, inplace = True)\n",
    "df2=df2.rename(columns={'result': 'type'})"
   ],
   "outputs": [],
   "metadata": {}
  },
  {
   "cell_type": "code",
   "execution_count": 78,
   "source": [
    "df3=df3.rename(columns={'label': 'type'})\n",
    "df3['type']=df3['type'].replace({'bad':1,'good':0})"
   ],
   "outputs": [],
   "metadata": {}
  },
  {
   "cell_type": "code",
   "execution_count": 79,
   "source": [
    "df=df.append(df2)\n",
    "df=df.append(df3)"
   ],
   "outputs": [],
   "metadata": {}
  },
  {
   "cell_type": "code",
   "execution_count": 80,
   "source": [
    "df.drop_duplicates(keep='first',inplace=True)"
   ],
   "outputs": [],
   "metadata": {}
  },
  {
   "cell_type": "code",
   "execution_count": 81,
   "source": [
    "sns.countplot(x='type',data=df, palette='rainbow')\n",
    "plt.show()"
   ],
   "outputs": [
    {
     "output_type": "display_data",
     "data": {
      "image/png": "[encoded data removed]",
      "text/plain": [
       "<Figure size 432x288 with 1 Axes>"
      ]
     },
     "metadata": {
      "needs_background": "light"
     }
    }
   ],
   "metadata": {}
  },
  {
   "cell_type": "code",
   "execution_count": 82,
   "source": [
    "#cleaner method\n",
    "def getTokens(input):\n",
    "    tokensBySlash = str(input.encode('utf-8')).split('/')\n",
    "    allTokens=[]\n",
    "    for i in tokensBySlash:\n",
    "        tokens = str(i).split('-')\n",
    "        tokensByDot = []\n",
    "        for j in range(0,len(tokens)):\n",
    "            tempTokens = str(tokens[j]).split('.')\n",
    "            tokentsByDot = tokensByDot + tempTokens\n",
    "        allTokens = allTokens + tokens + tokensByDot\n",
    "    allTokens = list(set(allTokens))\n",
    "    #if 'com' in allTokens:\n",
    "        #allTokens.remove('com')\n",
    "    return allTokens"
   ],
   "outputs": [],
   "metadata": {}
  },
  {
   "cell_type": "code",
   "execution_count": 83,
   "source": [
    "#Feature Extraction methods\n",
    "\n",
    "#returns the length of the url\n",
    "def http(s):\n",
    "    return s.count('http')\n",
    "\n",
    "#returns the count of http in the url\n",
    "def https(s):\n",
    "    return s.count('https')\n",
    "\n",
    "#returns the count of www in the url\n",
    "def www(s):\n",
    "    return s.count('www')\n",
    "\n",
    "#returns the count of digits in the url\n",
    "def digit(s):\n",
    "    return sum(i.isnumeric() for i in s)\n",
    "\n",
    "#returns the count of alphabets in the url\n",
    "def alpha(s):\n",
    "    return sum(i.isalpha() for i in s)\n",
    "\n",
    "#returns the count of special character's in the url\n",
    "def spec_char(s):\n",
    "    return sum((not(i.isalpha()) and not(i.isnumeric())) for i in s)\n",
    "\n",
    "#returns the count of / in the url\n",
    "def spec_char_1(s):\n",
    "    return s.count('/')\n",
    "\n",
    "#returns the count of ! in the url\n",
    "def spec_char_2(s):\n",
    "    return s.count('!')\n",
    "\n",
    "#returns the count of . in the url\n",
    "def spec_char_3(s):\n",
    "    return s.count('.')\n",
    "\n",
    "#returns the count of @ in the url    \n",
    "def spec_char_4(s):\n",
    "    return s.count('@')\n",
    "\n",
    "#returns the count of % in the url\n",
    "def spec_char_5(s):\n",
    "    return s.count('%')\n",
    "\n",
    "#returns the count of ? in the url\n",
    "def spec_char_6(s):\n",
    "    return s.count('?')\n",
    "\n",
    "#returns the count of = in the url\n",
    "def spec_char_7(s):\n",
    "    return s.count('=')\n",
    "\n",
    "#returns the count of + in the url\n",
    "def spec_char_8(s):\n",
    "    return s.count('+')\n",
    "\n",
    "#returns the count of - in the url\n",
    "def spec_char_9(s):\n",
    "    return s.count('-')\n",
    "\n",
    "#returns the count of & in the url\n",
    "def spec_char_10(s):\n",
    "    return s.count('&')\n",
    "\n",
    "def query_length(s):\n",
    "    return len(urlparse(s).query)\n",
    "\n",
    "#returns the domain of the url\n",
    "def dom_suffix(s):\n",
    "    domains={'com':1,'edu':2,'org':3,'net':4,'onion':5,'in':6}\n",
    "    s=tldextract.extract(s).suffix\n",
    "    if s in domains.keys():\n",
    "        return domains[s]\n",
    "    else:\n",
    "        return 0\n",
    "\n",
    "#returns the length of the domain\n",
    "def dom_length(s):\n",
    "    return len(tldextract.extract(s).domain)\n",
    "\n",
    "\n",
    "#returns the length of the sub_domain\n",
    "def subdom_length(s):\n",
    "    return len(tldextract.extract(s).subdomain)\n",
    "\n",
    "#returns the length of the url path\n",
    "def path_length(s):\n",
    "    return len(urlparse(s).path)\n",
    "\n",
    "#returns 1 if url contains a query\n",
    "def has_query(s):\n",
    "    if len(urlparse(s).query)==0:\n",
    "        return 0\n",
    "    else:\n",
    "        return 1\n",
    "\n",
    "def ip(s):\n",
    "    has_ip=re.search('(([01]?\\\\d\\\\d?|2[0-4]\\\\d|25[0-5])\\\\.([01]?\\\\d\\\\d?|2[0-4]\\\\d|25[0-5])\\\\.([01]?\\\\d\\\\d?|2[0-4]\\\\d|25[0-5])\\\\.'\n",
    "    '([01]?\\\\d\\\\d?|2[0-4]\\\\d|25[0-5])\\\\/)|'  # IPv4\n",
    "    '((0x[0-9a-fA-F]{1,2})\\\\.(0x[0-9a-fA-F]{1,2})\\\\.(0x[0-9a-fA-F]{1,2})\\\\.(0x[0-9a-fA-F]{1,2})\\\\/)' # IPv4 in hexadecimal\n",
    "    '(?:[a-fA-F0-9]{1,4}:){7}[a-fA-F0-9]{1,4}', s)\n",
    "    if has_ip:\n",
    "        return 1\n",
    "    else:\n",
    "        return 0\n",
    "\n",
    "#.php .EXE .html .htm .txt .avi .jar .js\n",
    "def extension(s):\n",
    "    #domains={'.htm':1,'.html':2,'.js':3,'.css':4,'.exe':5,}\n",
    "    if '.htm' in s:\n",
    "        return 1\n",
    "    elif '.html' in s:\n",
    "        return 2\n",
    "    elif '.js' in s:\n",
    "        return 3\n",
    "    elif '.css' in s:\n",
    "        return 4\n",
    "    elif '.exe' in s:\n",
    "        return 5\n",
    "    elif '.php' in s:\n",
    "        return 6\n",
    "    elif '.py' in s:\n",
    "        return 7\n",
    "    else:\n",
    "        return 0\n",
    "#remove youtube links -- youtube.com/watch--pending"
   ],
   "outputs": [],
   "metadata": {}
  },
  {
   "cell_type": "code",
   "execution_count": null,
   "source": [
    "#Extracting the feautures\n",
    "\n",
    "df['len']=df['url'].apply(lambda s : len(str(s)))\n",
    "\n",
    "df['http_count']=df['url'].apply(lambda s : http(s))\n",
    "\n",
    "df['https_count']=df['url'].apply(lambda s : https(s))\n",
    "\n",
    "df['www']=df['url'].apply(lambda s : www(s))\n",
    "\n",
    "df['digit_count']=df['url'].apply(lambda s: digit(s))\n",
    "\n",
    "df['alpha_count']=df['url'].apply(lambda s: alpha(s))\n",
    "\n",
    "df['spec_char_count']=df['url'].apply(lambda s: spec_char(s))\n",
    "\n",
    "df['/']=df['url'].apply(lambda s: spec_char_1(s))\n",
    "\n",
    "df['!']=df['url'].apply(lambda s: spec_char_2(s))\n",
    "\n",
    "df['.']=df['url'].apply(lambda s: spec_char_3(s))\n",
    "\n",
    "df['@']=df['url'].apply(lambda s: spec_char_4(s))\n",
    "\n",
    "df['%']=df['url'].apply(lambda s: spec_char_5(s))\n",
    "\n",
    "df['?']=df['url'].apply(lambda s: spec_char_6(s))\n",
    "\n",
    "df['=']=df['url'].apply(lambda s: spec_char_7(s))\n",
    "\n",
    "df['+']=df['url'].apply(lambda s: spec_char_8(s))\n",
    "\n",
    "df['-']=df['url'].apply(lambda s: spec_char_9(s))\n",
    "\n",
    "df['dom_suffix']=df['url'].apply(lambda s: dom_suffix(s))\n",
    "\n",
    "df['dom_length']=df['url'].apply(lambda s: dom_length(s))\n",
    "\n",
    "df['subdom_length']=df['url'].apply(lambda s: subdom_length(s))\n",
    "\n",
    "df['query']=df['url'].apply(lambda s: has_query(s))\n",
    "\n",
    "df['extension']=df['url'].apply(lambda s: extension(s))\n",
    "\n",
    "df['ip']=df['url'].apply(lambda s: ip(s))\n",
    "\n",
    "df.drop('url',axis = 1, inplace = True)"
   ],
   "outputs": [],
   "metadata": {}
  },
  {
   "cell_type": "code",
   "execution_count": 85,
   "source": [
    "df = shuffle(df)"
   ],
   "outputs": [],
   "metadata": {}
  },
  {
   "cell_type": "code",
   "execution_count": 86,
   "source": [
    "df.head()"
   ],
   "outputs": [
    {
     "output_type": "execute_result",
     "data": {
      "text/html": [
       "<div>\n",
       "<style scoped>\n",
       "    .dataframe tbody tr th:only-of-type {\n",
       "        vertical-align: middle;\n",
       "    }\n",
       "\n",
       "    .dataframe tbody tr th {\n",
       "        vertical-align: top;\n",
       "    }\n",
       "\n",
       "    .dataframe thead th {\n",
       "        text-align: right;\n",
       "    }\n",
       "</style>\n",
       "<table border=\"1\" class=\"dataframe\">\n",
       "  <thead>\n",
       "    <tr style=\"text-align: right;\">\n",
       "      <th></th>\n",
       "      <th>type</th>\n",
       "      <th>len</th>\n",
       "      <th>http_count</th>\n",
       "      <th>https_count</th>\n",
       "      <th>www</th>\n",
       "      <th>digit_count</th>\n",
       "      <th>alpha_count</th>\n",
       "      <th>spec_char_count</th>\n",
       "      <th>/</th>\n",
       "      <th>!</th>\n",
       "      <th>...</th>\n",
       "      <th>?</th>\n",
       "      <th>=</th>\n",
       "      <th>+</th>\n",
       "      <th>-</th>\n",
       "      <th>dom_suffix</th>\n",
       "      <th>dom_length</th>\n",
       "      <th>subdom_length</th>\n",
       "      <th>query</th>\n",
       "      <th>extension</th>\n",
       "      <th>ip</th>\n",
       "    </tr>\n",
       "  </thead>\n",
       "  <tbody>\n",
       "    <tr>\n",
       "      <th>78666</th>\n",
       "      <td>0</td>\n",
       "      <td>36</td>\n",
       "      <td>0</td>\n",
       "      <td>0</td>\n",
       "      <td>0</td>\n",
       "      <td>0</td>\n",
       "      <td>31</td>\n",
       "      <td>5</td>\n",
       "      <td>2</td>\n",
       "      <td>0</td>\n",
       "      <td>...</td>\n",
       "      <td>0</td>\n",
       "      <td>0</td>\n",
       "      <td>0</td>\n",
       "      <td>0</td>\n",
       "      <td>3</td>\n",
       "      <td>9</td>\n",
       "      <td>2</td>\n",
       "      <td>0</td>\n",
       "      <td>0</td>\n",
       "      <td>0</td>\n",
       "    </tr>\n",
       "    <tr>\n",
       "      <th>246204</th>\n",
       "      <td>0</td>\n",
       "      <td>38</td>\n",
       "      <td>0</td>\n",
       "      <td>0</td>\n",
       "      <td>0</td>\n",
       "      <td>0</td>\n",
       "      <td>33</td>\n",
       "      <td>5</td>\n",
       "      <td>1</td>\n",
       "      <td>0</td>\n",
       "      <td>...</td>\n",
       "      <td>1</td>\n",
       "      <td>1</td>\n",
       "      <td>0</td>\n",
       "      <td>0</td>\n",
       "      <td>1</td>\n",
       "      <td>2</td>\n",
       "      <td>0</td>\n",
       "      <td>1</td>\n",
       "      <td>0</td>\n",
       "      <td>0</td>\n",
       "    </tr>\n",
       "    <tr>\n",
       "      <th>559297</th>\n",
       "      <td>0</td>\n",
       "      <td>22</td>\n",
       "      <td>0</td>\n",
       "      <td>0</td>\n",
       "      <td>0</td>\n",
       "      <td>0</td>\n",
       "      <td>18</td>\n",
       "      <td>4</td>\n",
       "      <td>1</td>\n",
       "      <td>0</td>\n",
       "      <td>...</td>\n",
       "      <td>0</td>\n",
       "      <td>0</td>\n",
       "      <td>0</td>\n",
       "      <td>0</td>\n",
       "      <td>0</td>\n",
       "      <td>7</td>\n",
       "      <td>10</td>\n",
       "      <td>0</td>\n",
       "      <td>0</td>\n",
       "      <td>0</td>\n",
       "    </tr>\n",
       "    <tr>\n",
       "      <th>83941</th>\n",
       "      <td>0</td>\n",
       "      <td>73</td>\n",
       "      <td>0</td>\n",
       "      <td>0</td>\n",
       "      <td>0</td>\n",
       "      <td>0</td>\n",
       "      <td>63</td>\n",
       "      <td>10</td>\n",
       "      <td>1</td>\n",
       "      <td>0</td>\n",
       "      <td>...</td>\n",
       "      <td>1</td>\n",
       "      <td>1</td>\n",
       "      <td>0</td>\n",
       "      <td>0</td>\n",
       "      <td>1</td>\n",
       "      <td>7</td>\n",
       "      <td>0</td>\n",
       "      <td>1</td>\n",
       "      <td>6</td>\n",
       "      <td>0</td>\n",
       "    </tr>\n",
       "    <tr>\n",
       "      <th>235896</th>\n",
       "      <td>0</td>\n",
       "      <td>52</td>\n",
       "      <td>1</td>\n",
       "      <td>1</td>\n",
       "      <td>1</td>\n",
       "      <td>8</td>\n",
       "      <td>33</td>\n",
       "      <td>11</td>\n",
       "      <td>7</td>\n",
       "      <td>0</td>\n",
       "      <td>...</td>\n",
       "      <td>0</td>\n",
       "      <td>0</td>\n",
       "      <td>0</td>\n",
       "      <td>1</td>\n",
       "      <td>1</td>\n",
       "      <td>8</td>\n",
       "      <td>3</td>\n",
       "      <td>0</td>\n",
       "      <td>0</td>\n",
       "      <td>0</td>\n",
       "    </tr>\n",
       "  </tbody>\n",
       "</table>\n",
       "<p>5 rows × 23 columns</p>\n",
       "</div>"
      ],
      "text/plain": [
       "        type  len  http_count  https_count  www  digit_count  alpha_count  \\\n",
       "78666      0   36           0            0    0            0           31   \n",
       "246204     0   38           0            0    0            0           33   \n",
       "559297     0   22           0            0    0            0           18   \n",
       "83941      0   73           0            0    0            0           63   \n",
       "235896     0   52           1            1    1            8           33   \n",
       "\n",
       "        spec_char_count  /  !  ...  ?  =  +  -  dom_suffix  dom_length  \\\n",
       "78666                 5  2  0  ...  0  0  0  0           3           9   \n",
       "246204                5  1  0  ...  1  1  0  0           1           2   \n",
       "559297                4  1  0  ...  0  0  0  0           0           7   \n",
       "83941                10  1  0  ...  1  1  0  0           1           7   \n",
       "235896               11  7  0  ...  0  0  0  1           1           8   \n",
       "\n",
       "        subdom_length  query  extension  ip  \n",
       "78666               2      0          0   0  \n",
       "246204              0      1          0   0  \n",
       "559297             10      0          0   0  \n",
       "83941               0      1          6   0  \n",
       "235896              3      0          0   0  \n",
       "\n",
       "[5 rows x 23 columns]"
      ]
     },
     "metadata": {},
     "execution_count": 86
    }
   ],
   "metadata": {}
  },
  {
   "cell_type": "code",
   "execution_count": 89,
   "source": [
    "df.info()"
   ],
   "outputs": [
    {
     "output_type": "stream",
     "name": "stdout",
     "text": [
      "<class 'pandas.core.frame.DataFrame'>\n",
      "Int64Index: 1156638 entries, 78666 to 408402\n",
      "Data columns (total 23 columns):\n",
      " #   Column           Non-Null Count    Dtype\n",
      "---  ------           --------------    -----\n",
      " 0   type             1156638 non-null  int64\n",
      " 1   len              1156638 non-null  int64\n",
      " 2   http_count       1156638 non-null  int64\n",
      " 3   https_count      1156638 non-null  int64\n",
      " 4   www              1156638 non-null  int64\n",
      " 5   digit_count      1156638 non-null  int64\n",
      " 6   alpha_count      1156638 non-null  int64\n",
      " 7   spec_char_count  1156638 non-null  int64\n",
      " 8   /                1156638 non-null  int64\n",
      " 9   !                1156638 non-null  int64\n",
      " 10  .                1156638 non-null  int64\n",
      " 11  @                1156638 non-null  int64\n",
      " 12  %                1156638 non-null  int64\n",
      " 13  ?                1156638 non-null  int64\n",
      " 14  =                1156638 non-null  int64\n",
      " 15  +                1156638 non-null  int64\n",
      " 16  -                1156638 non-null  int64\n",
      " 17  dom_suffix       1156638 non-null  int64\n",
      " 18  dom_length       1156638 non-null  int64\n",
      " 19  subdom_length    1156638 non-null  int64\n",
      " 20  query            1156638 non-null  int64\n",
      " 21  extension        1156638 non-null  int64\n",
      " 22  ip               1156638 non-null  int64\n",
      "dtypes: int64(23)\n",
      "memory usage: 211.8 MB\n"
     ]
    }
   ],
   "metadata": {}
  },
  {
   "cell_type": "code",
   "execution_count": 90,
   "source": [
    "x=df[['len','http_count','https_count','www','digit_count','alpha_count','spec_char_count','/','!','.','@','%','?','=','+','-','dom_suffix','dom_length','subdom_length','query','extension','ip']]\n",
    "y=df['type']"
   ],
   "outputs": [],
   "metadata": {}
  },
  {
   "cell_type": "code",
   "execution_count": 91,
   "source": [
    "x_train, x_test, y_train, y_test = train_test_split(x,y,test_size=0.2,shuffle='True')"
   ],
   "outputs": [],
   "metadata": {}
  },
  {
   "cell_type": "code",
   "execution_count": 92,
   "source": [
    "model=LogisticRegression(solver='lbfgs', max_iter=10000)\n",
    "model.fit(x_train,y_train)"
   ],
   "outputs": [
    {
     "output_type": "execute_result",
     "data": {
      "text/plain": [
       "LogisticRegression(max_iter=10000)"
      ]
     },
     "metadata": {},
     "execution_count": 92
    }
   ],
   "metadata": {}
  },
  {
   "cell_type": "code",
   "execution_count": 93,
   "source": [
    "model.score(x_test,y_test)"
   ],
   "outputs": [
    {
     "output_type": "execute_result",
     "data": {
      "text/plain": [
       "0.8565413611841195"
      ]
     },
     "metadata": {},
     "execution_count": 93
    }
   ],
   "metadata": {}
  },
  {
   "cell_type": "code",
   "execution_count": 94,
   "source": [
    "pred=model.predict(x_test)"
   ],
   "outputs": [],
   "metadata": {}
  },
  {
   "cell_type": "code",
   "execution_count": 95,
   "source": [
    "print(confusion_matrix(y_test,pred))\n",
    "print(classification_report(y_test,pred))"
   ],
   "outputs": [
    {
     "output_type": "stream",
     "name": "stdout",
     "text": [
      "[[149023   5449]\n",
      " [ 27737  49119]]\n",
      "              precision    recall  f1-score   support\n",
      "\n",
      "           0       0.84      0.96      0.90    154472\n",
      "           1       0.90      0.64      0.75     76856\n",
      "\n",
      "    accuracy                           0.86    231328\n",
      "   macro avg       0.87      0.80      0.82    231328\n",
      "weighted avg       0.86      0.86      0.85    231328\n",
      "\n"
     ]
    }
   ],
   "metadata": {}
  },
  {
   "cell_type": "code",
   "execution_count": 96,
   "source": [
    "model_1=DecisionTreeClassifier()\n",
    "model_1.fit(x_train,y_train)"
   ],
   "outputs": [
    {
     "output_type": "execute_result",
     "data": {
      "text/plain": [
       "DecisionTreeClassifier()"
      ]
     },
     "metadata": {},
     "execution_count": 96
    }
   ],
   "metadata": {}
  },
  {
   "cell_type": "code",
   "execution_count": 97,
   "source": [
    "model_1.score(x_test,y_test)"
   ],
   "outputs": [
    {
     "output_type": "execute_result",
     "data": {
      "text/plain": [
       "0.9547914649329091"
      ]
     },
     "metadata": {},
     "execution_count": 97
    }
   ],
   "metadata": {}
  },
  {
   "cell_type": "code",
   "execution_count": 98,
   "source": [
    "pred1=model_1.predict(x_test)"
   ],
   "outputs": [],
   "metadata": {}
  },
  {
   "cell_type": "code",
   "execution_count": 99,
   "source": [
    "print(confusion_matrix(y_test,pred1))\n",
    "print(classification_report(y_test,pred1))"
   ],
   "outputs": [
    {
     "output_type": "stream",
     "name": "stdout",
     "text": [
      "[[149881   4591]\n",
      " [  5867  70989]]\n",
      "              precision    recall  f1-score   support\n",
      "\n",
      "           0       0.96      0.97      0.97    154472\n",
      "           1       0.94      0.92      0.93     76856\n",
      "\n",
      "    accuracy                           0.95    231328\n",
      "   macro avg       0.95      0.95      0.95    231328\n",
      "weighted avg       0.95      0.95      0.95    231328\n",
      "\n"
     ]
    }
   ],
   "metadata": {}
  },
  {
   "cell_type": "code",
   "execution_count": 101,
   "source": [
    "x=['len','http_count','https_count','www','digit_count','alpha_count','spec_char_count','/','!','.','@','%','?','=','+','-','dom_suffix','dom_length','subdom_length','query','extension','ip']\n",
    "min_max_scaler = preprocessing.MinMaxScaler()\n",
    "column_names_to_normalize = x\n",
    "x = df[column_names_to_normalize].values\n",
    "x_scaled = min_max_scaler.fit_transform(x)\n",
    "df_temp = pd.DataFrame(x_scaled, columns=column_names_to_normalize, index = df.index)\n",
    "df[column_names_to_normalize] = df_temp"
   ],
   "outputs": [],
   "metadata": {}
  },
  {
   "cell_type": "code",
   "execution_count": 102,
   "source": [
    "x=df[['len','http_count','https_count','www','digit_count','alpha_count','spec_char_count','/','!','.','@','%','?','=','+','-','dom_suffix','dom_length','subdom_length','query','extension','ip']]\n",
    "y=df['type']"
   ],
   "outputs": [],
   "metadata": {}
  },
  {
   "cell_type": "code",
   "execution_count": 103,
   "source": [
    "x_train, x_test, y_train, y_test = train_test_split(x,y,test_size=0.2,shuffle='True')"
   ],
   "outputs": [],
   "metadata": {}
  },
  {
   "cell_type": "code",
   "execution_count": 104,
   "source": [
    "model_2=DecisionTreeClassifier()\n",
    "model_2.fit(x_train,y_train)"
   ],
   "outputs": [
    {
     "output_type": "execute_result",
     "data": {
      "text/plain": [
       "DecisionTreeClassifier()"
      ]
     },
     "metadata": {},
     "execution_count": 104
    }
   ],
   "metadata": {}
  },
  {
   "cell_type": "code",
   "execution_count": 105,
   "source": [
    "model_2.score(x_test,y_test)"
   ],
   "outputs": [
    {
     "output_type": "execute_result",
     "data": {
      "text/plain": [
       "0.9551502628302669"
      ]
     },
     "metadata": {},
     "execution_count": 105
    }
   ],
   "metadata": {}
  },
  {
   "cell_type": "code",
   "execution_count": 106,
   "source": [
    "pred2=model_2.predict(x_test)"
   ],
   "outputs": [],
   "metadata": {}
  },
  {
   "cell_type": "code",
   "execution_count": 107,
   "source": [
    "print(confusion_matrix(y_test,pred2))\n",
    "print(classification_report(y_test,pred2))"
   ],
   "outputs": [
    {
     "output_type": "stream",
     "name": "stdout",
     "text": [
      "[[150191   4623]\n",
      " [  5752  70762]]\n",
      "              precision    recall  f1-score   support\n",
      "\n",
      "           0       0.96      0.97      0.97    154814\n",
      "           1       0.94      0.92      0.93     76514\n",
      "\n",
      "    accuracy                           0.96    231328\n",
      "   macro avg       0.95      0.95      0.95    231328\n",
      "weighted avg       0.96      0.96      0.96    231328\n",
      "\n"
     ]
    }
   ],
   "metadata": {}
  },
  {
   "cell_type": "code",
   "execution_count": 108,
   "source": [
    "df.head()"
   ],
   "outputs": [
    {
     "output_type": "execute_result",
     "data": {
      "text/html": [
       "<div>\n",
       "<style scoped>\n",
       "    .dataframe tbody tr th:only-of-type {\n",
       "        vertical-align: middle;\n",
       "    }\n",
       "\n",
       "    .dataframe tbody tr th {\n",
       "        vertical-align: top;\n",
       "    }\n",
       "\n",
       "    .dataframe thead th {\n",
       "        text-align: right;\n",
       "    }\n",
       "</style>\n",
       "<table border=\"1\" class=\"dataframe\">\n",
       "  <thead>\n",
       "    <tr style=\"text-align: right;\">\n",
       "      <th></th>\n",
       "      <th>type</th>\n",
       "      <th>len</th>\n",
       "      <th>http_count</th>\n",
       "      <th>https_count</th>\n",
       "      <th>www</th>\n",
       "      <th>digit_count</th>\n",
       "      <th>alpha_count</th>\n",
       "      <th>spec_char_count</th>\n",
       "      <th>/</th>\n",
       "      <th>!</th>\n",
       "      <th>...</th>\n",
       "      <th>?</th>\n",
       "      <th>=</th>\n",
       "      <th>+</th>\n",
       "      <th>-</th>\n",
       "      <th>dom_suffix</th>\n",
       "      <th>dom_length</th>\n",
       "      <th>subdom_length</th>\n",
       "      <th>query</th>\n",
       "      <th>extension</th>\n",
       "      <th>ip</th>\n",
       "    </tr>\n",
       "  </thead>\n",
       "  <tbody>\n",
       "    <tr>\n",
       "      <th>78666</th>\n",
       "      <td>0</td>\n",
       "      <td>0.015132</td>\n",
       "      <td>0.0</td>\n",
       "      <td>0.000</td>\n",
       "      <td>0.000000</td>\n",
       "      <td>0.000000</td>\n",
       "      <td>0.014479</td>\n",
       "      <td>0.013441</td>\n",
       "      <td>0.043478</td>\n",
       "      <td>0.0</td>\n",
       "      <td>...</td>\n",
       "      <td>0.000000</td>\n",
       "      <td>0.000000</td>\n",
       "      <td>0.0</td>\n",
       "      <td>0.000000</td>\n",
       "      <td>0.500000</td>\n",
       "      <td>0.059603</td>\n",
       "      <td>0.008696</td>\n",
       "      <td>0.0</td>\n",
       "      <td>0.000000</td>\n",
       "      <td>0.0</td>\n",
       "    </tr>\n",
       "    <tr>\n",
       "      <th>246204</th>\n",
       "      <td>0</td>\n",
       "      <td>0.015997</td>\n",
       "      <td>0.0</td>\n",
       "      <td>0.000</td>\n",
       "      <td>0.000000</td>\n",
       "      <td>0.000000</td>\n",
       "      <td>0.015413</td>\n",
       "      <td>0.013441</td>\n",
       "      <td>0.021739</td>\n",
       "      <td>0.0</td>\n",
       "      <td>...</td>\n",
       "      <td>0.006024</td>\n",
       "      <td>0.019608</td>\n",
       "      <td>0.0</td>\n",
       "      <td>0.000000</td>\n",
       "      <td>0.166667</td>\n",
       "      <td>0.013245</td>\n",
       "      <td>0.000000</td>\n",
       "      <td>1.0</td>\n",
       "      <td>0.000000</td>\n",
       "      <td>0.0</td>\n",
       "    </tr>\n",
       "    <tr>\n",
       "      <th>559297</th>\n",
       "      <td>0</td>\n",
       "      <td>0.009079</td>\n",
       "      <td>0.0</td>\n",
       "      <td>0.000</td>\n",
       "      <td>0.000000</td>\n",
       "      <td>0.000000</td>\n",
       "      <td>0.008407</td>\n",
       "      <td>0.010753</td>\n",
       "      <td>0.021739</td>\n",
       "      <td>0.0</td>\n",
       "      <td>...</td>\n",
       "      <td>0.000000</td>\n",
       "      <td>0.000000</td>\n",
       "      <td>0.0</td>\n",
       "      <td>0.000000</td>\n",
       "      <td>0.000000</td>\n",
       "      <td>0.046358</td>\n",
       "      <td>0.043478</td>\n",
       "      <td>0.0</td>\n",
       "      <td>0.000000</td>\n",
       "      <td>0.0</td>\n",
       "    </tr>\n",
       "    <tr>\n",
       "      <th>83941</th>\n",
       "      <td>0</td>\n",
       "      <td>0.031128</td>\n",
       "      <td>0.0</td>\n",
       "      <td>0.000</td>\n",
       "      <td>0.000000</td>\n",
       "      <td>0.000000</td>\n",
       "      <td>0.029426</td>\n",
       "      <td>0.026882</td>\n",
       "      <td>0.021739</td>\n",
       "      <td>0.0</td>\n",
       "      <td>...</td>\n",
       "      <td>0.006024</td>\n",
       "      <td>0.019608</td>\n",
       "      <td>0.0</td>\n",
       "      <td>0.000000</td>\n",
       "      <td>0.166667</td>\n",
       "      <td>0.046358</td>\n",
       "      <td>0.000000</td>\n",
       "      <td>1.0</td>\n",
       "      <td>0.857143</td>\n",
       "      <td>0.0</td>\n",
       "    </tr>\n",
       "    <tr>\n",
       "      <th>235896</th>\n",
       "      <td>0</td>\n",
       "      <td>0.022049</td>\n",
       "      <td>0.1</td>\n",
       "      <td>0.125</td>\n",
       "      <td>0.166667</td>\n",
       "      <td>0.006645</td>\n",
       "      <td>0.015413</td>\n",
       "      <td>0.029570</td>\n",
       "      <td>0.152174</td>\n",
       "      <td>0.0</td>\n",
       "      <td>...</td>\n",
       "      <td>0.000000</td>\n",
       "      <td>0.000000</td>\n",
       "      <td>0.0</td>\n",
       "      <td>0.011494</td>\n",
       "      <td>0.166667</td>\n",
       "      <td>0.052980</td>\n",
       "      <td>0.013043</td>\n",
       "      <td>0.0</td>\n",
       "      <td>0.000000</td>\n",
       "      <td>0.0</td>\n",
       "    </tr>\n",
       "  </tbody>\n",
       "</table>\n",
       "<p>5 rows × 23 columns</p>\n",
       "</div>"
      ],
      "text/plain": [
       "        type       len  http_count  https_count       www  digit_count  \\\n",
       "78666      0  0.015132         0.0        0.000  0.000000     0.000000   \n",
       "246204     0  0.015997         0.0        0.000  0.000000     0.000000   \n",
       "559297     0  0.009079         0.0        0.000  0.000000     0.000000   \n",
       "83941      0  0.031128         0.0        0.000  0.000000     0.000000   \n",
       "235896     0  0.022049         0.1        0.125  0.166667     0.006645   \n",
       "\n",
       "        alpha_count  spec_char_count         /    !  ...         ?         =  \\\n",
       "78666      0.014479         0.013441  0.043478  0.0  ...  0.000000  0.000000   \n",
       "246204     0.015413         0.013441  0.021739  0.0  ...  0.006024  0.019608   \n",
       "559297     0.008407         0.010753  0.021739  0.0  ...  0.000000  0.000000   \n",
       "83941      0.029426         0.026882  0.021739  0.0  ...  0.006024  0.019608   \n",
       "235896     0.015413         0.029570  0.152174  0.0  ...  0.000000  0.000000   \n",
       "\n",
       "          +         -  dom_suffix  dom_length  subdom_length  query  \\\n",
       "78666   0.0  0.000000    0.500000    0.059603       0.008696    0.0   \n",
       "246204  0.0  0.000000    0.166667    0.013245       0.000000    1.0   \n",
       "559297  0.0  0.000000    0.000000    0.046358       0.043478    0.0   \n",
       "83941   0.0  0.000000    0.166667    0.046358       0.000000    1.0   \n",
       "235896  0.0  0.011494    0.166667    0.052980       0.013043    0.0   \n",
       "\n",
       "        extension   ip  \n",
       "78666    0.000000  0.0  \n",
       "246204   0.000000  0.0  \n",
       "559297   0.000000  0.0  \n",
       "83941    0.857143  0.0  \n",
       "235896   0.000000  0.0  \n",
       "\n",
       "[5 rows x 23 columns]"
      ]
     },
     "metadata": {},
     "execution_count": 108
    }
   ],
   "metadata": {}
  },
  {
   "cell_type": "code",
   "execution_count": 115,
   "source": [
    "model_3=lgb.LGBMClassifier()\n",
    "model_3.fit(x_train,y_train)"
   ],
   "outputs": [
    {
     "output_type": "execute_result",
     "data": {
      "text/plain": [
       "LGBMClassifier()"
      ]
     },
     "metadata": {},
     "execution_count": 115
    }
   ],
   "metadata": {}
  },
  {
   "cell_type": "code",
   "execution_count": 116,
   "source": [
    "model_3.score(x_test,y_test)"
   ],
   "outputs": [
    {
     "output_type": "execute_result",
     "data": {
      "text/plain": [
       "0.9457048001106654"
      ]
     },
     "metadata": {},
     "execution_count": 116
    }
   ],
   "metadata": {}
  },
  {
   "cell_type": "code",
   "execution_count": 117,
   "source": [
    "pred3=model_3.predict(x_test)"
   ],
   "outputs": [],
   "metadata": {}
  },
  {
   "cell_type": "code",
   "execution_count": 118,
   "source": [
    "print(confusion_matrix(y_test,pred3))\n",
    "print(classification_report(y_test,pred3))"
   ],
   "outputs": [
    {
     "output_type": "stream",
     "name": "stdout",
     "text": [
      "[[151262   3552]\n",
      " [  9008  67506]]\n",
      "              precision    recall  f1-score   support\n",
      "\n",
      "           0       0.94      0.98      0.96    154814\n",
      "           1       0.95      0.88      0.91     76514\n",
      "\n",
      "    accuracy                           0.95    231328\n",
      "   macro avg       0.95      0.93      0.94    231328\n",
      "weighted avg       0.95      0.95      0.95    231328\n",
      "\n"
     ]
    }
   ],
   "metadata": {}
  },
  {
   "cell_type": "code",
   "execution_count": 122,
   "source": [
    "#neural network\n",
    "nn=Sequential()\n",
    "nn.add(keras.Input(shape=(22,)))\n",
    "nn.add(Dense(128, activation='relu'))\n",
    "nn.add(Dense(64, activation='relu'))\n",
    "nn.add(Dense(32, activation='relu'))\n",
    "nn.add(Dense(16, activation='relu'))\n",
    "nn.add(Dense(8, activation='relu'))\n",
    "nn.add(Dense(4, activation='relu'))\n",
    "nn.add(Dense(1, activation='sigmoid'))"
   ],
   "outputs": [
    {
     "output_type": "stream",
     "name": "stdout",
     "text": [
      "WARNING:tensorflow:Please add `keras.layers.InputLayer` instead of `keras.Input` to Sequential model. `keras.Input` is intended to be used by Functional model.\n"
     ]
    }
   ],
   "metadata": {}
  },
  {
   "cell_type": "code",
   "execution_count": 123,
   "source": [
    "nn.compile(optimizer='adam',\n",
    "              loss='binary_crossentropy',\n",
    "              metrics=['accuracy'])"
   ],
   "outputs": [],
   "metadata": {}
  },
  {
   "cell_type": "code",
   "execution_count": 124,
   "source": [
    "nn.fit(x_train, y_train, epochs=100,validation_data=(x_test, y_test), batch_size=128)"
   ],
   "outputs": [
    {
     "output_type": "stream",
     "name": "stdout",
     "text": [
      "Epoch 1/100\n",
      "7229/7229 [==============================] - 55s 7ms/step - loss: 0.2559 - accuracy: 0.9195 - val_loss: 0.1750 - val_accuracy: 0.9321\n",
      "Epoch 2/100\n",
      "7229/7229 [==============================] - 55s 8ms/step - loss: 0.1656 - accuracy: 0.9347 - val_loss: 0.1535 - val_accuracy: 0.9387\n",
      "Epoch 3/100\n",
      "7229/7229 [==============================] - 49s 7ms/step - loss: 0.1502 - accuracy: 0.9402 - val_loss: 0.1470 - val_accuracy: 0.9421\n",
      "Epoch 4/100\n",
      "7229/7229 [==============================] - 50s 7ms/step - loss: 0.1416 - accuracy: 0.9439 - val_loss: 0.1372 - val_accuracy: 0.9452\n",
      "Epoch 5/100\n",
      "7229/7229 [==============================] - 50s 7ms/step - loss: 0.1367 - accuracy: 0.9458 - val_loss: 0.1332 - val_accuracy: 0.9474\n",
      "Epoch 6/100\n",
      "7229/7229 [==============================] - 49s 7ms/step - loss: 0.1333 - accuracy: 0.9473 - val_loss: 0.1308 - val_accuracy: 0.9480\n",
      "Epoch 7/100\n",
      "7229/7229 [==============================] - 51s 7ms/step - loss: 0.1305 - accuracy: 0.9483 - val_loss: 0.1257 - val_accuracy: 0.9503\n",
      "Epoch 8/100\n",
      "7229/7229 [==============================] - 52s 7ms/step - loss: 0.1282 - accuracy: 0.9492 - val_loss: 0.1262 - val_accuracy: 0.9505\n",
      "Epoch 9/100\n",
      "7229/7229 [==============================] - 52s 7ms/step - loss: 0.1265 - accuracy: 0.9499 - val_loss: 0.1266 - val_accuracy: 0.9490\n",
      "Epoch 10/100\n",
      "7229/7229 [==============================] - 51s 7ms/step - loss: 0.1249 - accuracy: 0.9506 - val_loss: 0.1220 - val_accuracy: 0.9520\n",
      "Epoch 11/100\n",
      "7229/7229 [==============================] - 53s 7ms/step - loss: 0.1233 - accuracy: 0.9512 - val_loss: 0.1242 - val_accuracy: 0.9513\n",
      "Epoch 12/100\n",
      "7229/7229 [==============================] - 50s 7ms/step - loss: 0.1220 - accuracy: 0.9518 - val_loss: 0.1193 - val_accuracy: 0.9532\n",
      "Epoch 13/100\n",
      "7229/7229 [==============================] - 54s 7ms/step - loss: 0.1211 - accuracy: 0.9521 - val_loss: 0.1189 - val_accuracy: 0.9528\n",
      "Epoch 14/100\n",
      "7229/7229 [==============================] - 57s 8ms/step - loss: 0.1200 - accuracy: 0.9527 - val_loss: 0.1189 - val_accuracy: 0.9533\n",
      "Epoch 15/100\n",
      "7229/7229 [==============================] - 56s 8ms/step - loss: 0.1190 - accuracy: 0.9530 - val_loss: 0.1170 - val_accuracy: 0.9542\n",
      "Epoch 16/100\n",
      "7229/7229 [==============================] - 56s 8ms/step - loss: 0.1181 - accuracy: 0.9536 - val_loss: 0.1167 - val_accuracy: 0.9541\n",
      "Epoch 17/100\n",
      "7229/7229 [==============================] - 51s 7ms/step - loss: 0.1173 - accuracy: 0.9539 - val_loss: 0.1168 - val_accuracy: 0.9545\n",
      "Epoch 18/100\n",
      "7229/7229 [==============================] - 53s 7ms/step - loss: 0.1165 - accuracy: 0.9539 - val_loss: 0.1189 - val_accuracy: 0.9540\n",
      "Epoch 19/100\n",
      "7229/7229 [==============================] - 52s 7ms/step - loss: 0.1160 - accuracy: 0.9542 - val_loss: 0.1151 - val_accuracy: 0.9547\n",
      "Epoch 20/100\n",
      "7229/7229 [==============================] - 60s 8ms/step - loss: 0.1151 - accuracy: 0.9547 - val_loss: 0.1151 - val_accuracy: 0.9543\n",
      "Epoch 21/100\n",
      "7229/7229 [==============================] - 60s 8ms/step - loss: 0.1144 - accuracy: 0.9550 - val_loss: 0.1180 - val_accuracy: 0.9537\n",
      "Epoch 22/100\n",
      "7229/7229 [==============================] - 63s 9ms/step - loss: 0.1137 - accuracy: 0.9551 - val_loss: 0.1148 - val_accuracy: 0.9550\n",
      "Epoch 23/100\n",
      "7229/7229 [==============================] - 62s 9ms/step - loss: 0.1132 - accuracy: 0.9554 - val_loss: 0.1166 - val_accuracy: 0.9537\n",
      "Epoch 24/100\n",
      "7229/7229 [==============================] - 45s 6ms/step - loss: 0.1128 - accuracy: 0.9556 - val_loss: 0.1128 - val_accuracy: 0.9561\n",
      "Epoch 25/100\n",
      "7229/7229 [==============================] - 52s 7ms/step - loss: 0.1122 - accuracy: 0.9559 - val_loss: 0.1139 - val_accuracy: 0.9555\n",
      "Epoch 26/100\n",
      "7229/7229 [==============================] - 52s 7ms/step - loss: 0.1117 - accuracy: 0.9559 - val_loss: 0.1148 - val_accuracy: 0.9556\n",
      "Epoch 27/100\n",
      "7229/7229 [==============================] - 52s 7ms/step - loss: 0.1112 - accuracy: 0.9562 - val_loss: 0.1136 - val_accuracy: 0.9562\n",
      "Epoch 28/100\n",
      "7229/7229 [==============================] - 55s 8ms/step - loss: 0.1109 - accuracy: 0.9566 - val_loss: 0.1132 - val_accuracy: 0.9561\n",
      "Epoch 29/100\n",
      "7229/7229 [==============================] - 51s 7ms/step - loss: 0.1104 - accuracy: 0.9566 - val_loss: 0.1146 - val_accuracy: 0.9553\n",
      "Epoch 30/100\n",
      "7229/7229 [==============================] - 54s 7ms/step - loss: 0.1102 - accuracy: 0.9566 - val_loss: 0.1123 - val_accuracy: 0.9564\n",
      "Epoch 31/100\n",
      "7229/7229 [==============================] - 68s 9ms/step - loss: 0.1098 - accuracy: 0.9569 - val_loss: 0.1143 - val_accuracy: 0.9553\n",
      "Epoch 32/100\n",
      "7229/7229 [==============================] - 54s 7ms/step - loss: 0.1094 - accuracy: 0.9570 - val_loss: 0.1123 - val_accuracy: 0.9567\n",
      "Epoch 33/100\n",
      "7229/7229 [==============================] - 51s 7ms/step - loss: 0.1091 - accuracy: 0.9569 - val_loss: 0.1123 - val_accuracy: 0.9563\n",
      "Epoch 34/100\n",
      "7229/7229 [==============================] - 48s 7ms/step - loss: 0.1088 - accuracy: 0.9574 - val_loss: 0.1123 - val_accuracy: 0.9562\n",
      "Epoch 35/100\n",
      "7229/7229 [==============================] - 48s 7ms/step - loss: 0.1084 - accuracy: 0.9573 - val_loss: 0.1118 - val_accuracy: 0.9568\n",
      "Epoch 36/100\n",
      "7229/7229 [==============================] - 48s 7ms/step - loss: 0.1082 - accuracy: 0.9573 - val_loss: 0.1110 - val_accuracy: 0.9572\n",
      "Epoch 37/100\n",
      "7229/7229 [==============================] - 48s 7ms/step - loss: 0.1077 - accuracy: 0.9577 - val_loss: 0.1143 - val_accuracy: 0.9555\n",
      "Epoch 38/100\n",
      "7229/7229 [==============================] - 48s 7ms/step - loss: 0.1076 - accuracy: 0.9579 - val_loss: 0.1116 - val_accuracy: 0.9570\n",
      "Epoch 39/100\n",
      "7229/7229 [==============================] - 48s 7ms/step - loss: 0.1072 - accuracy: 0.9578 - val_loss: 0.1124 - val_accuracy: 0.9561\n",
      "Epoch 40/100\n",
      "7229/7229 [==============================] - 49s 7ms/step - loss: 0.1071 - accuracy: 0.9579 - val_loss: 0.1123 - val_accuracy: 0.9567\n",
      "Epoch 41/100\n",
      "7229/7229 [==============================] - 49s 7ms/step - loss: 0.1066 - accuracy: 0.9581 - val_loss: 0.1131 - val_accuracy: 0.9565\n",
      "Epoch 42/100\n",
      "7229/7229 [==============================] - 49s 7ms/step - loss: 0.1064 - accuracy: 0.9582 - val_loss: 0.1102 - val_accuracy: 0.9573\n",
      "Epoch 43/100\n",
      "7229/7229 [==============================] - 49s 7ms/step - loss: 0.1063 - accuracy: 0.9582 - val_loss: 0.1103 - val_accuracy: 0.9571\n",
      "Epoch 44/100\n",
      "7229/7229 [==============================] - 49s 7ms/step - loss: 0.1060 - accuracy: 0.9583 - val_loss: 0.1096 - val_accuracy: 0.9576\n",
      "Epoch 45/100\n",
      "7229/7229 [==============================] - 53s 7ms/step - loss: 0.1058 - accuracy: 0.9583 - val_loss: 0.1102 - val_accuracy: 0.9578\n",
      "Epoch 46/100\n",
      "7229/7229 [==============================] - 57s 8ms/step - loss: 0.1054 - accuracy: 0.9586 - val_loss: 0.1124 - val_accuracy: 0.9569\n",
      "Epoch 47/100\n",
      "7229/7229 [==============================] - 72s 10ms/step - loss: 0.1054 - accuracy: 0.9587 - val_loss: 0.1112 - val_accuracy: 0.9569\n",
      "Epoch 48/100\n",
      "7229/7229 [==============================] - 64s 9ms/step - loss: 0.1051 - accuracy: 0.9587 - val_loss: 0.1116 - val_accuracy: 0.9571\n",
      "Epoch 49/100\n",
      "7229/7229 [==============================] - 64s 9ms/step - loss: 0.1049 - accuracy: 0.9589 - val_loss: 0.1090 - val_accuracy: 0.9575\n",
      "Epoch 50/100\n",
      "7229/7229 [==============================] - 52s 7ms/step - loss: 0.1048 - accuracy: 0.9589 - val_loss: 0.1094 - val_accuracy: 0.9580\n",
      "Epoch 51/100\n",
      "7229/7229 [==============================] - 60s 8ms/step - loss: 0.1045 - accuracy: 0.9590 - val_loss: 0.1103 - val_accuracy: 0.9575\n",
      "Epoch 52/100\n",
      "7229/7229 [==============================] - 59s 8ms/step - loss: 0.1045 - accuracy: 0.9589 - val_loss: 0.1095 - val_accuracy: 0.9581\n",
      "Epoch 53/100\n",
      "7229/7229 [==============================] - 54s 7ms/step - loss: 0.1040 - accuracy: 0.9591 - val_loss: 0.1096 - val_accuracy: 0.9577\n",
      "Epoch 54/100\n",
      "7229/7229 [==============================] - 52s 7ms/step - loss: 0.1038 - accuracy: 0.9591 - val_loss: 0.1088 - val_accuracy: 0.9581\n",
      "Epoch 55/100\n",
      "7229/7229 [==============================] - 61s 8ms/step - loss: 0.1039 - accuracy: 0.9593 - val_loss: 0.1109 - val_accuracy: 0.9575\n",
      "Epoch 56/100\n",
      "7229/7229 [==============================] - 56s 8ms/step - loss: 0.1036 - accuracy: 0.9593 - val_loss: 0.1092 - val_accuracy: 0.9580\n",
      "Epoch 57/100\n",
      "7229/7229 [==============================] - 57s 8ms/step - loss: 0.1034 - accuracy: 0.9593 - val_loss: 0.1104 - val_accuracy: 0.9579\n",
      "Epoch 58/100\n",
      "7229/7229 [==============================] - 57s 8ms/step - loss: 0.1033 - accuracy: 0.9593 - val_loss: 0.1098 - val_accuracy: 0.9581\n",
      "Epoch 59/100\n",
      "7229/7229 [==============================] - 57s 8ms/step - loss: 0.1030 - accuracy: 0.9596 - val_loss: 0.1104 - val_accuracy: 0.9575\n",
      "Epoch 60/100\n",
      "7229/7229 [==============================] - 62s 9ms/step - loss: 0.1029 - accuracy: 0.9596 - val_loss: 0.1081 - val_accuracy: 0.9585\n",
      "Epoch 61/100\n",
      "7229/7229 [==============================] - 58s 8ms/step - loss: 0.1028 - accuracy: 0.9596 - val_loss: 0.1101 - val_accuracy: 0.9576\n",
      "Epoch 62/100\n",
      "7229/7229 [==============================] - 60s 8ms/step - loss: 0.1026 - accuracy: 0.9596 - val_loss: 0.1088 - val_accuracy: 0.9585\n",
      "Epoch 63/100\n",
      "7229/7229 [==============================] - 54s 7ms/step - loss: 0.1026 - accuracy: 0.9596 - val_loss: 0.1087 - val_accuracy: 0.9588\n",
      "Epoch 64/100\n",
      "7229/7229 [==============================] - 58s 8ms/step - loss: 0.1025 - accuracy: 0.9597 - val_loss: 0.1086 - val_accuracy: 0.9588\n",
      "Epoch 65/100\n",
      "7229/7229 [==============================] - 62s 9ms/step - loss: 0.1024 - accuracy: 0.9599 - val_loss: 0.1098 - val_accuracy: 0.9579\n",
      "Epoch 66/100\n",
      "7229/7229 [==============================] - 52s 7ms/step - loss: 0.1022 - accuracy: 0.9598 - val_loss: 0.1090 - val_accuracy: 0.9583\n",
      "Epoch 67/100\n",
      "7229/7229 [==============================] - 51s 7ms/step - loss: 0.1020 - accuracy: 0.9599 - val_loss: 0.1090 - val_accuracy: 0.9584\n",
      "Epoch 68/100\n",
      "7229/7229 [==============================] - 51s 7ms/step - loss: 0.1016 - accuracy: 0.9601 - val_loss: 0.1108 - val_accuracy: 0.9577\n",
      "Epoch 69/100\n",
      "7229/7229 [==============================] - 51s 7ms/step - loss: 0.1018 - accuracy: 0.9601 - val_loss: 0.1106 - val_accuracy: 0.9579\n",
      "Epoch 70/100\n",
      "7229/7229 [==============================] - 53s 7ms/step - loss: 0.1016 - accuracy: 0.9600 - val_loss: 0.1120 - val_accuracy: 0.9576\n",
      "Epoch 71/100\n",
      "7229/7229 [==============================] - 55s 8ms/step - loss: 0.1015 - accuracy: 0.9600 - val_loss: 0.1108 - val_accuracy: 0.9576\n",
      "Epoch 72/100\n",
      "7229/7229 [==============================] - 52s 7ms/step - loss: 0.1014 - accuracy: 0.9602 - val_loss: 0.1094 - val_accuracy: 0.9584\n",
      "Epoch 73/100\n",
      "7229/7229 [==============================] - 52s 7ms/step - loss: 0.1013 - accuracy: 0.9600 - val_loss: 0.1091 - val_accuracy: 0.9583\n",
      "Epoch 74/100\n",
      "7229/7229 [==============================] - 52s 7ms/step - loss: 0.1010 - accuracy: 0.9602 - val_loss: 0.1085 - val_accuracy: 0.9588\n",
      "Epoch 75/100\n",
      "7229/7229 [==============================] - 52s 7ms/step - loss: 0.1010 - accuracy: 0.9603 - val_loss: 0.1089 - val_accuracy: 0.9586\n",
      "Epoch 76/100\n",
      "7229/7229 [==============================] - 60s 8ms/step - loss: 0.1008 - accuracy: 0.9604 - val_loss: 0.1095 - val_accuracy: 0.9580\n",
      "Epoch 77/100\n",
      "7229/7229 [==============================] - 53s 7ms/step - loss: 0.1006 - accuracy: 0.9605 - val_loss: 0.1093 - val_accuracy: 0.9587\n",
      "Epoch 78/100\n",
      "7229/7229 [==============================] - 54s 7ms/step - loss: 0.1007 - accuracy: 0.9603 - val_loss: 0.1103 - val_accuracy: 0.9578\n",
      "Epoch 79/100\n",
      "7229/7229 [==============================] - 51s 7ms/step - loss: 0.1007 - accuracy: 0.9603 - val_loss: 0.1081 - val_accuracy: 0.9590\n",
      "Epoch 80/100\n",
      "7229/7229 [==============================] - 50s 7ms/step - loss: 0.1005 - accuracy: 0.9606 - val_loss: 0.1079 - val_accuracy: 0.9590\n",
      "Epoch 81/100\n",
      "7229/7229 [==============================] - 49s 7ms/step - loss: 0.1003 - accuracy: 0.9606 - val_loss: 0.1091 - val_accuracy: 0.9583\n",
      "Epoch 82/100\n",
      "7229/7229 [==============================] - 49s 7ms/step - loss: 0.1002 - accuracy: 0.9605 - val_loss: 0.1094 - val_accuracy: 0.9590\n",
      "Epoch 83/100\n",
      "7229/7229 [==============================] - 49s 7ms/step - loss: 0.1001 - accuracy: 0.9606 - val_loss: 0.1092 - val_accuracy: 0.9588\n",
      "Epoch 84/100\n",
      "7229/7229 [==============================] - 49s 7ms/step - loss: 0.1001 - accuracy: 0.9606 - val_loss: 0.1101 - val_accuracy: 0.9584\n",
      "Epoch 85/100\n",
      "7229/7229 [==============================] - 49s 7ms/step - loss: 0.1000 - accuracy: 0.9607 - val_loss: 0.1099 - val_accuracy: 0.9589\n",
      "Epoch 86/100\n",
      "7229/7229 [==============================] - 49s 7ms/step - loss: 0.0998 - accuracy: 0.9608 - val_loss: 0.1085 - val_accuracy: 0.9590\n",
      "Epoch 87/100\n",
      "7229/7229 [==============================] - 49s 7ms/step - loss: 0.0997 - accuracy: 0.9607 - val_loss: 0.1092 - val_accuracy: 0.9588\n",
      "Epoch 88/100\n",
      "7229/7229 [==============================] - 49s 7ms/step - loss: 0.0995 - accuracy: 0.9610 - val_loss: 0.1097 - val_accuracy: 0.9590\n",
      "Epoch 89/100\n",
      "7229/7229 [==============================] - 50s 7ms/step - loss: 0.0995 - accuracy: 0.9608 - val_loss: 0.1118 - val_accuracy: 0.9574\n",
      "Epoch 90/100\n",
      "7229/7229 [==============================] - 49s 7ms/step - loss: 0.0995 - accuracy: 0.9609 - val_loss: 0.1089 - val_accuracy: 0.9585\n",
      "Epoch 91/100\n",
      "7229/7229 [==============================] - 49s 7ms/step - loss: 0.0994 - accuracy: 0.9609 - val_loss: 0.1106 - val_accuracy: 0.9586\n",
      "Epoch 92/100\n",
      "7229/7229 [==============================] - 50s 7ms/step - loss: 0.0992 - accuracy: 0.9610 - val_loss: 0.1082 - val_accuracy: 0.9591\n",
      "Epoch 93/100\n",
      "7229/7229 [==============================] - 49s 7ms/step - loss: 0.0991 - accuracy: 0.9610 - val_loss: 0.1084 - val_accuracy: 0.9588\n",
      "Epoch 94/100\n",
      "7229/7229 [==============================] - 57s 8ms/step - loss: 0.0993 - accuracy: 0.9609 - val_loss: 0.1085 - val_accuracy: 0.9590\n",
      "Epoch 95/100\n",
      "7229/7229 [==============================] - 49s 7ms/step - loss: 0.0990 - accuracy: 0.9610 - val_loss: 0.1088 - val_accuracy: 0.9588\n",
      "Epoch 96/100\n",
      "7229/7229 [==============================] - 49s 7ms/step - loss: 0.0990 - accuracy: 0.9610 - val_loss: 0.1078 - val_accuracy: 0.9588\n",
      "Epoch 97/100\n",
      "7229/7229 [==============================] - 49s 7ms/step - loss: 0.0991 - accuracy: 0.9611 - val_loss: 0.1094 - val_accuracy: 0.9592\n",
      "Epoch 98/100\n",
      "7229/7229 [==============================] - 49s 7ms/step - loss: 0.0988 - accuracy: 0.9612 - val_loss: 0.1083 - val_accuracy: 0.9588\n",
      "Epoch 99/100\n",
      "7229/7229 [==============================] - 49s 7ms/step - loss: 0.0985 - accuracy: 0.9613 - val_loss: 0.1078 - val_accuracy: 0.9597\n",
      "Epoch 100/100\n",
      "7229/7229 [==============================] - 49s 7ms/step - loss: 0.0985 - accuracy: 0.9613 - val_loss: 0.1130 - val_accuracy: 0.9570\n"
     ]
    },
    {
     "output_type": "execute_result",
     "data": {
      "text/plain": [
       "<tensorflow.python.keras.callbacks.History at 0x29d5128e0>"
      ]
     },
     "metadata": {},
     "execution_count": 124
    }
   ],
   "metadata": {}
  }
 ],
 "metadata": {
  "orig_nbformat": 4,
  "language_info": {
   "name": "python",
   "version": "3.9.7",
   "mimetype": "text/x-python",
   "codemirror_mode": {
    "name": "ipython",
    "version": 3
   },
   "pygments_lexer": "ipython3",
   "nbconvert_exporter": "python",
   "file_extension": ".py"
  },
  "kernelspec": {
   "name": "python3",
   "display_name": "Python 3.9.7 64-bit ('tensorflow': conda)"
  },
  "interpreter": {
   "hash": "96e5d53265b94df340949bd6ef5afdc360b59f503fc29fdfbde1773c536f468a"
  }
 },
 "nbformat": 4,
 "nbformat_minor": 2
}