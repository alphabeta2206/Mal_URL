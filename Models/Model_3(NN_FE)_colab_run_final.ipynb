{
  "nbformat": 4,
  "nbformat_minor": 2,
  "metadata": {
    "colab": {
      "name": "Model-3(NN-FE)-colab-run-final.ipynb",
      "provenance": []
    },
    "kernelspec": {
      "name": "python3",
      "display_name": "Python 3"
    },
    "language_info": {
      "name": "python"
    },
    "accelerator": "GPU"
  },
  "cells": [
    {
      "cell_type": "code",
      "execution_count": 2,
      "source": [
        "import matplotlib.pyplot as plt\n",
        "import seaborn as sns\n",
        "import numpy as np\n",
        "import pandas as pd\n",
        "import re\n",
        "import tensorflow as tf\n",
        "from sklearn.metrics import classification_report\n",
        "from sklearn.metrics import confusion_matrix\n",
        "from sklearn.model_selection import train_test_split\n",
        "from sklearn.utils import shuffle\n",
        "from urllib.parse import urlparse\n",
        "from sklearn import preprocessing\n",
        "import tldextract\n",
        "%matplotlib inline\n",
        "import random\n",
        "import gc\n",
        "import os\n",
        "import random\n",
        "from tensorflow import keras\n",
        "from tensorflow.keras.preprocessing.text import Tokenizer\n",
        "from tensorflow.keras.layers import LSTM, Dense, Dropout, Embedding\n",
        "from tensorflow.keras.preprocessing import sequence\n",
        "from tensorflow.keras.models import Sequential\n",
        "from tensorflow.keras.layers import SpatialDropout1D\n",
        "from keras.wrappers.scikit_learn import KerasClassifier\n",
        "from sklearn.model_selection import GridSearchCV\n",
        "from keras.callbacks import EarlyStopping\n",
        "from keras.callbacks import ModelCheckpoint\n",
        "from keras.callbacks import ReduceLROnPlateau"
      ],
      "outputs": [],
      "metadata": {
        "id": "LV-lspKXieVT"
      }
    },
    {
      "cell_type": "code",
      "execution_count": 3,
      "source": [
        "df=pd.read_csv(\"/content/mal_1.csv\")\n",
        "df2=pd.read_csv(\"/content/mal_2.csv\")\n",
        "df3=pd.read_csv(\"/content/mal_3.csv\")"
      ],
      "outputs": [],
      "metadata": {
        "id": "IxqCrU_K7xJ6"
      }
    },
    {
      "cell_type": "code",
      "execution_count": 4,
      "source": [
        "df['type']=df['type'].replace({'phishing':1,'benign':0,'defacement':1,'malware':1})"
      ],
      "outputs": [],
      "metadata": {
        "id": "OMEHTi377xMa"
      }
    },
    {
      "cell_type": "code",
      "execution_count": 5,
      "source": [
        "df2.drop(df2.columns[df2.columns.str.contains('unnamed',case = False)],axis = 1, inplace = True)\n",
        "df2.drop('label',axis = 1, inplace = True)\n",
        "df2=df2.rename(columns={'result': 'type'})"
      ],
      "outputs": [],
      "metadata": {
        "id": "iLDFh-I47xO4"
      }
    },
    {
      "cell_type": "code",
      "execution_count": 6,
      "source": [
        "df3=df3.rename(columns={'label': 'type'})\n",
        "df3['type']=df3['type'].replace({'bad':1,'good':0})"
      ],
      "outputs": [],
      "metadata": {
        "id": "oUiHIyX-7xRP"
      }
    },
    {
      "cell_type": "code",
      "execution_count": 7,
      "source": [
        "df=df.append(df2)\n",
        "df=df.append(df3)"
      ],
      "outputs": [],
      "metadata": {
        "id": "QlGfkyKy7xTa"
      }
    },
    {
      "cell_type": "code",
      "execution_count": 8,
      "source": [
        "df.drop_duplicates(keep='first',inplace=True)"
      ],
      "outputs": [],
      "metadata": {
        "id": "HYboZndL8KSg"
      }
    },
    {
      "cell_type": "code",
      "execution_count": 9,
      "source": [
        "sns.countplot(x='type',data=df, palette='rainbow')\n",
        "plt.show()"
      ],
      "outputs": [
        {
          "output_type": "display_data",
          "data": {
            "image/png": "[encoded data removed]",
            "text/plain": [
              "<Figure size 432x288 with 1 Axes>"
            ]
          },
          "metadata": {
            "needs_background": "light"
          }
        }
      ],
      "metadata": {
        "id": "Rn-zHox58NFO",
        "colab": {
          "base_uri": "https://localhost:8080/",
          "height": 280
        },
        "outputId": "9cc4ef1f-fbb1-411d-9fbf-93db4f52d085"
      }
    },
    {
      "cell_type": "code",
      "execution_count": 10,
      "source": [
        "#Feature Extraction methods\n",
        "\n",
        "#returns the length of the url\n",
        "def http(s):\n",
        "    return s.count('http')\n",
        "\n",
        "#returns the count of http in the url\n",
        "def https(s):\n",
        "    return s.count('https')\n",
        "\n",
        "#returns the count of www in the url\n",
        "def www(s):\n",
        "    return s.count('www')\n",
        "\n",
        "#returns the count of digits in the url\n",
        "def digit(s):\n",
        "    return sum(i.isnumeric() for i in s)\n",
        "\n",
        "#returns the count of alphabets in the url\n",
        "def alpha(s):\n",
        "    return sum(i.isalpha() for i in s)\n",
        "\n",
        "#returns the count of special character's in the url\n",
        "def spec_char(s):\n",
        "    return sum((not(i.isalpha()) and not(i.isnumeric())) for i in s)\n",
        "\n",
        "#returns the count of / in the url\n",
        "def spec_char_1(s):\n",
        "    return s.count('/')\n",
        "\n",
        "#returns the count of ! in the url\n",
        "def spec_char_2(s):\n",
        "    return s.count('!')\n",
        "\n",
        "#returns the count of . in the url\n",
        "def spec_char_3(s):\n",
        "    return s.count('.')\n",
        "\n",
        "#returns the count of @ in the url    \n",
        "def spec_char_4(s):\n",
        "    return s.count('@')\n",
        "\n",
        "#returns the count of % in the url\n",
        "def spec_char_5(s):\n",
        "    return s.count('%')\n",
        "\n",
        "#returns the count of ? in the url\n",
        "def spec_char_6(s):\n",
        "    return s.count('?')\n",
        "\n",
        "#returns the count of = in the url\n",
        "def spec_char_7(s):\n",
        "    return s.count('=')\n",
        "\n",
        "#returns the count of + in the url\n",
        "def spec_char_8(s):\n",
        "    return s.count('+')\n",
        "\n",
        "#returns the count of - in the url\n",
        "def spec_char_9(s):\n",
        "    return s.count('-')\n",
        "\n",
        "#returns the count of & in the url\n",
        "def spec_char_10(s):\n",
        "    return s.count('&')\n",
        "\n",
        "def query_length(s):\n",
        "    return len(urlparse(s).query)\n",
        "\n",
        "#returns the domain of the url\n",
        "def dom_suffix(s):\n",
        "    domains={'com':1,'edu':2,'org':3,'net':4,'onion':5,'in':6}\n",
        "    s=tldextract.extract(s).suffix\n",
        "    if s in domains.keys():\n",
        "        return domains[s]\n",
        "    else:\n",
        "        return 0\n",
        "\n",
        "#returns the length of the domain\n",
        "def dom_length(s):\n",
        "    return len(tldextract.extract(s).domain)\n",
        "\n",
        "\n",
        "#returns the length of the sub_domain\n",
        "def subdom_length(s):\n",
        "    return len(tldextract.extract(s).subdomain)\n",
        "\n",
        "#returns the length of the url path\n",
        "def path_length(s):\n",
        "    return len(urlparse(s).path)\n",
        "\n",
        "#returns 1 if url contains a query\n",
        "def has_query(s):\n",
        "    if len(urlparse(s).query)==0:\n",
        "        return 0\n",
        "    else:\n",
        "        return 1\n",
        "#Checks for ipv4 in the url\n",
        "def ip(s):\n",
        "    has_ip=re.search('(([01]?\\\\d\\\\d?|2[0-4]\\\\d|25[0-5])\\\\.([01]?\\\\d\\\\d?|2[0-4]\\\\d|25[0-5])\\\\.([01]?\\\\d\\\\d?|2[0-4]\\\\d|25[0-5])\\\\.'\n",
        "    '([01]?\\\\d\\\\d?|2[0-4]\\\\d|25[0-5])\\\\/)|'  # IPv4\n",
        "    '((0x[0-9a-fA-F]{1,2})\\\\.(0x[0-9a-fA-F]{1,2})\\\\.(0x[0-9a-fA-F]{1,2})\\\\.(0x[0-9a-fA-F]{1,2})\\\\/)' # IPv4 in hexadecimal\n",
        "    '(?:[a-fA-F0-9]{1,4}:){7}[a-fA-F0-9]{1,4}', s)\n",
        "    if has_ip:\n",
        "        return 1\n",
        "    else:\n",
        "        return 0\n",
        "\n",
        "#.php .EXE .html .htm .txt .avi .jar .js\n",
        "def extension(s):\n",
        "    #domains={'.htm':1,'.html':2,'.js':3,'.css':4,'.exe':5,}\n",
        "    if '.htm' in s:\n",
        "        return 1\n",
        "    elif '.html' in s:\n",
        "        return 2\n",
        "    elif '.js' in s:\n",
        "        return 3\n",
        "    elif '.css' in s:\n",
        "        return 4\n",
        "    elif '.exe' in s:\n",
        "        return 5\n",
        "    elif '.php' in s:\n",
        "        return 6\n",
        "    elif '.py' in s:\n",
        "        return 7\n",
        "    else:\n",
        "        return 0"
      ],
      "outputs": [],
      "metadata": {
        "id": "VC5qLCSw6lSl"
      }
    },
    {
      "cell_type": "code",
      "execution_count": 11,
      "source": [
        "#Extracting the feautures\n",
        "\n",
        "df['len']=df['url'].apply(lambda s : len(str(s)))\n",
        "\n",
        "df['http_count']=df['url'].apply(lambda s : http(s))\n",
        "\n",
        "df['https_count']=df['url'].apply(lambda s : https(s))\n",
        "\n",
        "df['www']=df['url'].apply(lambda s : www(s))\n",
        "\n",
        "df['digit_count']=df['url'].apply(lambda s: digit(s))\n",
        "\n",
        "df['alpha_count']=df['url'].apply(lambda s: alpha(s))\n",
        "\n",
        "df['spec_char_count']=df['url'].apply(lambda s: spec_char(s))\n",
        "\n",
        "df['/']=df['url'].apply(lambda s: spec_char_1(s))\n",
        "\n",
        "df['!']=df['url'].apply(lambda s: spec_char_2(s))\n",
        "\n",
        "df['.']=df['url'].apply(lambda s: spec_char_3(s))\n",
        "\n",
        "df['@']=df['url'].apply(lambda s: spec_char_4(s))\n",
        "\n",
        "df['%']=df['url'].apply(lambda s: spec_char_5(s))\n",
        "\n",
        "df['?']=df['url'].apply(lambda s: spec_char_6(s))\n",
        "\n",
        "df['=']=df['url'].apply(lambda s: spec_char_7(s))\n",
        "\n",
        "df['+']=df['url'].apply(lambda s: spec_char_8(s))\n",
        "\n",
        "df['-']=df['url'].apply(lambda s: spec_char_9(s))\n",
        "\n",
        "df['dom_suffix']=df['url'].apply(lambda s: dom_suffix(s))\n",
        "\n",
        "df['dom_length']=df['url'].apply(lambda s: dom_length(s))\n",
        "\n",
        "df['subdom_length']=df['url'].apply(lambda s: subdom_length(s))\n",
        "\n",
        "df['query']=df['url'].apply(lambda s: has_query(s))\n",
        "\n",
        "df['extension']=df['url'].apply(lambda s: extension(s))\n",
        "\n",
        "df['ip']=df['url'].apply(lambda s: ip(s))\n",
        "\n",
        "df.drop('url',axis = 1, inplace = True)"
      ],
      "outputs": [],
      "metadata": {
        "id": "Udx5ZK5N7pDz"
      }
    },
    {
      "cell_type": "code",
      "execution_count": 12,
      "source": [
        "df = shuffle(df)"
      ],
      "outputs": [],
      "metadata": {
        "id": "zDfMI81p7pK2"
      }
    },
    {
      "cell_type": "code",
      "execution_count": 13,
      "source": [
        "df.head()"
      ],
      "outputs": [
        {
          "output_type": "execute_result",
          "data": {
            "text/html": [
              "<div>\n",
              "<style scoped>\n",
              "    .dataframe tbody tr th:only-of-type {\n",
              "        vertical-align: middle;\n",
              "    }\n",
              "\n",
              "    .dataframe tbody tr th {\n",
              "        vertical-align: top;\n",
              "    }\n",
              "\n",
              "    .dataframe thead th {\n",
              "        text-align: right;\n",
              "    }\n",
              "</style>\n",
              "<table border=\"1\" class=\"dataframe\">\n",
              "  <thead>\n",
              "    <tr style=\"text-align: right;\">\n",
              "      <th></th>\n",
              "      <th>type</th>\n",
              "      <th>len</th>\n",
              "      <th>http_count</th>\n",
              "      <th>https_count</th>\n",
              "      <th>www</th>\n",
              "      <th>digit_count</th>\n",
              "      <th>alpha_count</th>\n",
              "      <th>spec_char_count</th>\n",
              "      <th>/</th>\n",
              "      <th>!</th>\n",
              "      <th>.</th>\n",
              "      <th>@</th>\n",
              "      <th>%</th>\n",
              "      <th>?</th>\n",
              "      <th>=</th>\n",
              "      <th>+</th>\n",
              "      <th>-</th>\n",
              "      <th>dom_suffix</th>\n",
              "      <th>dom_length</th>\n",
              "      <th>subdom_length</th>\n",
              "      <th>query</th>\n",
              "      <th>extension</th>\n",
              "      <th>ip</th>\n",
              "    </tr>\n",
              "  </thead>\n",
              "  <tbody>\n",
              "    <tr>\n",
              "      <th>407922</th>\n",
              "      <td>1</td>\n",
              "      <td>25</td>\n",
              "      <td>1</td>\n",
              "      <td>0</td>\n",
              "      <td>1</td>\n",
              "      <td>0</td>\n",
              "      <td>18</td>\n",
              "      <td>7</td>\n",
              "      <td>3</td>\n",
              "      <td>0</td>\n",
              "      <td>2</td>\n",
              "      <td>0</td>\n",
              "      <td>0</td>\n",
              "      <td>0</td>\n",
              "      <td>0</td>\n",
              "      <td>0</td>\n",
              "      <td>1</td>\n",
              "      <td>1</td>\n",
              "      <td>9</td>\n",
              "      <td>3</td>\n",
              "      <td>0</td>\n",
              "      <td>0</td>\n",
              "      <td>0</td>\n",
              "    </tr>\n",
              "    <tr>\n",
              "      <th>2341</th>\n",
              "      <td>1</td>\n",
              "      <td>57</td>\n",
              "      <td>0</td>\n",
              "      <td>0</td>\n",
              "      <td>0</td>\n",
              "      <td>25</td>\n",
              "      <td>23</td>\n",
              "      <td>9</td>\n",
              "      <td>4</td>\n",
              "      <td>0</td>\n",
              "      <td>3</td>\n",
              "      <td>1</td>\n",
              "      <td>0</td>\n",
              "      <td>0</td>\n",
              "      <td>0</td>\n",
              "      <td>0</td>\n",
              "      <td>0</td>\n",
              "      <td>1</td>\n",
              "      <td>10</td>\n",
              "      <td>10</td>\n",
              "      <td>0</td>\n",
              "      <td>5</td>\n",
              "      <td>0</td>\n",
              "    </tr>\n",
              "    <tr>\n",
              "      <th>233212</th>\n",
              "      <td>0</td>\n",
              "      <td>49</td>\n",
              "      <td>0</td>\n",
              "      <td>0</td>\n",
              "      <td>0</td>\n",
              "      <td>8</td>\n",
              "      <td>33</td>\n",
              "      <td>8</td>\n",
              "      <td>1</td>\n",
              "      <td>0</td>\n",
              "      <td>3</td>\n",
              "      <td>0</td>\n",
              "      <td>0</td>\n",
              "      <td>0</td>\n",
              "      <td>0</td>\n",
              "      <td>0</td>\n",
              "      <td>1</td>\n",
              "      <td>1</td>\n",
              "      <td>8</td>\n",
              "      <td>12</td>\n",
              "      <td>0</td>\n",
              "      <td>1</td>\n",
              "      <td>0</td>\n",
              "    </tr>\n",
              "    <tr>\n",
              "      <th>395720</th>\n",
              "      <td>1</td>\n",
              "      <td>55</td>\n",
              "      <td>1</td>\n",
              "      <td>0</td>\n",
              "      <td>0</td>\n",
              "      <td>0</td>\n",
              "      <td>43</td>\n",
              "      <td>12</td>\n",
              "      <td>6</td>\n",
              "      <td>0</td>\n",
              "      <td>3</td>\n",
              "      <td>0</td>\n",
              "      <td>0</td>\n",
              "      <td>1</td>\n",
              "      <td>1</td>\n",
              "      <td>0</td>\n",
              "      <td>0</td>\n",
              "      <td>0</td>\n",
              "      <td>3</td>\n",
              "      <td>0</td>\n",
              "      <td>1</td>\n",
              "      <td>6</td>\n",
              "      <td>0</td>\n",
              "    </tr>\n",
              "    <tr>\n",
              "      <th>104544</th>\n",
              "      <td>0</td>\n",
              "      <td>86</td>\n",
              "      <td>1</td>\n",
              "      <td>1</td>\n",
              "      <td>1</td>\n",
              "      <td>1</td>\n",
              "      <td>76</td>\n",
              "      <td>9</td>\n",
              "      <td>5</td>\n",
              "      <td>0</td>\n",
              "      <td>3</td>\n",
              "      <td>0</td>\n",
              "      <td>0</td>\n",
              "      <td>0</td>\n",
              "      <td>0</td>\n",
              "      <td>0</td>\n",
              "      <td>0</td>\n",
              "      <td>1</td>\n",
              "      <td>12</td>\n",
              "      <td>3</td>\n",
              "      <td>0</td>\n",
              "      <td>1</td>\n",
              "      <td>0</td>\n",
              "    </tr>\n",
              "  </tbody>\n",
              "</table>\n",
              "</div>"
            ],
            "text/plain": [
              "        type  len  http_count  https_count  ...  subdom_length  query  extension  ip\n",
              "407922     1   25           1            0  ...              3      0          0   0\n",
              "2341       1   57           0            0  ...             10      0          5   0\n",
              "233212     0   49           0            0  ...             12      0          1   0\n",
              "395720     1   55           1            0  ...              0      1          6   0\n",
              "104544     0   86           1            1  ...              3      0          1   0\n",
              "\n",
              "[5 rows x 23 columns]"
            ]
          },
          "metadata": {},
          "execution_count": 13
        }
      ],
      "metadata": {
        "id": "lA-Z6ai97pNU",
        "colab": {
          "base_uri": "https://localhost:8080/",
          "height": 224
        },
        "outputId": "b4738f20-8ba0-4f00-8ac0-b06aa4ce7fa0"
      }
    },
    {
      "cell_type": "code",
      "execution_count": 14,
      "source": [
        "df.info()"
      ],
      "outputs": [
        {
          "output_type": "stream",
          "name": "stdout",
          "text": [
            "<class 'pandas.core.frame.DataFrame'>\n",
            "Int64Index: 1156638 entries, 407922 to 93251\n",
            "Data columns (total 23 columns):\n",
            " #   Column           Non-Null Count    Dtype\n",
            "---  ------           --------------    -----\n",
            " 0   type             1156638 non-null  int64\n",
            " 1   len              1156638 non-null  int64\n",
            " 2   http_count       1156638 non-null  int64\n",
            " 3   https_count      1156638 non-null  int64\n",
            " 4   www              1156638 non-null  int64\n",
            " 5   digit_count      1156638 non-null  int64\n",
            " 6   alpha_count      1156638 non-null  int64\n",
            " 7   spec_char_count  1156638 non-null  int64\n",
            " 8   /                1156638 non-null  int64\n",
            " 9   !                1156638 non-null  int64\n",
            " 10  .                1156638 non-null  int64\n",
            " 11  @                1156638 non-null  int64\n",
            " 12  %                1156638 non-null  int64\n",
            " 13  ?                1156638 non-null  int64\n",
            " 14  =                1156638 non-null  int64\n",
            " 15  +                1156638 non-null  int64\n",
            " 16  -                1156638 non-null  int64\n",
            " 17  dom_suffix       1156638 non-null  int64\n",
            " 18  dom_length       1156638 non-null  int64\n",
            " 19  subdom_length    1156638 non-null  int64\n",
            " 20  query            1156638 non-null  int64\n",
            " 21  extension        1156638 non-null  int64\n",
            " 22  ip               1156638 non-null  int64\n",
            "dtypes: int64(23)\n",
            "memory usage: 211.8 MB\n"
          ]
        }
      ],
      "metadata": {
        "id": "G3uG_Kq87pPu",
        "colab": {
          "base_uri": "https://localhost:8080/"
        },
        "outputId": "1e65aeec-b8cb-4322-fe49-69e7a4fb26b8"
      }
    },
    {
      "cell_type": "code",
      "execution_count": 15,
      "source": [
        "x=['len','http_count','https_count','www','digit_count','alpha_count','spec_char_count','/','!','.','@','%','?','=','+','-','dom_suffix','dom_length','subdom_length','query','extension','ip']\n",
        "min_max_scaler = preprocessing.MinMaxScaler()\n",
        "column_names_to_normalize = x\n",
        "x = df[column_names_to_normalize].values\n",
        "x_scaled = min_max_scaler.fit_transform(x)\n",
        "df_temp = pd.DataFrame(x_scaled, columns=column_names_to_normalize, index = df.index)\n",
        "df[column_names_to_normalize] = df_temp"
      ],
      "outputs": [],
      "metadata": {
        "id": "Oh1A_i8s8iEL"
      }
    },
    {
      "cell_type": "code",
      "execution_count": 16,
      "source": [
        "x=df[['len','http_count','https_count','www','digit_count','alpha_count','spec_char_count','/','!','.','@','%','?','=','+','-','dom_suffix','dom_length','subdom_length','query','extension','ip']]\n",
        "y=df['type']"
      ],
      "outputs": [],
      "metadata": {
        "id": "czCcZc3K7pSC"
      }
    },
    {
      "cell_type": "code",
      "execution_count": 17,
      "source": [
        "x_train, x_test, y_train, y_test = train_test_split(x,y,test_size=0.2,shuffle='True',stratify=y)"
      ],
      "outputs": [],
      "metadata": {
        "id": "QlUdq1LV7pUf"
      }
    },
    {
      "cell_type": "code",
      "execution_count": 18,
      "source": [
        "#Callbacks\n",
        "es = EarlyStopping(monitor='val_loss', \n",
        "        mode='min', \n",
        "        patience=3,\n",
        "        restore_best_weights=True, \n",
        "        verbose=1)\n",
        "mc = ModelCheckpoint('best_model.h5',verbose=1,save_best_only=True, save_weights_only = True)\n",
        "reduce_lr=ReduceLROnPlateau( monitor=\"val_loss\",factor=0.5,patience=1, verbose=1)"
      ],
      "outputs": [],
      "metadata": {
        "id": "gT60dlRgRAd9"
      }
    },
    {
      "cell_type": "code",
      "execution_count": 19,
      "source": [
        "#neural network\n",
        "nn=Sequential()\n",
        "nn.add(keras.Input(shape=(22,)))\n",
        "nn.add(Dense(128, activation='relu'))\n",
        "nn.add(Dense(64, activation='relu'))\n",
        "nn.add(Dense(32, activation='relu'))\n",
        "nn.add(Dense(16, activation='relu'))\n",
        "nn.add(Dense(8, activation='relu'))\n",
        "nn.add(Dense(4, activation='relu'))\n",
        "nn.add(Dense(1, activation='sigmoid'))"
      ],
      "outputs": [],
      "metadata": {
        "id": "PsmRjYVIhxSF"
      }
    },
    {
      "cell_type": "code",
      "execution_count": 20,
      "source": [
        "nn.compile(optimizer='adam',\n",
        "              loss='binary_crossentropy',\n",
        "              metrics=['accuracy'])"
      ],
      "outputs": [],
      "metadata": {
        "id": "75xQr6iohxZk"
      }
    },
    {
      "cell_type": "code",
      "execution_count": 23,
      "source": [
        "nn.fit(x_train, y_train, epochs=100,validation_data=(x_test, y_test), callbacks=[es,mc,reduce_lr],batch_size=128)"
      ],
      "outputs": [
        {
          "output_type": "stream",
          "name": "stdout",
          "text": [
            "Epoch 1/100\n",
            "7229/7229 [==============================] - 35s 4ms/step - loss: 0.2264 - accuracy: 0.9183 - val_loss: 0.1773 - val_accuracy: 0.9315\n",
            "\n",
            "Epoch 00001: val_loss improved from inf to 0.17729, saving model to best_model.h5\n",
            "Epoch 2/100\n",
            "7229/7229 [==============================] - 32s 4ms/step - loss: 0.1660 - accuracy: 0.9354 - val_loss: 0.1583 - val_accuracy: 0.9370\n",
            "\n",
            "Epoch 00002: val_loss improved from 0.17729 to 0.15826, saving model to best_model.h5\n",
            "Epoch 3/100\n",
            "7229/7229 [==============================] - 30s 4ms/step - loss: 0.1494 - accuracy: 0.9411 - val_loss: 0.1485 - val_accuracy: 0.9412\n",
            "\n",
            "Epoch 00003: val_loss improved from 0.15826 to 0.14846, saving model to best_model.h5\n",
            "Epoch 4/100\n",
            "7229/7229 [==============================] - 31s 4ms/step - loss: 0.1421 - accuracy: 0.9439 - val_loss: 0.1371 - val_accuracy: 0.9461\n",
            "\n",
            "Epoch 00004: val_loss improved from 0.14846 to 0.13714, saving model to best_model.h5\n",
            "Epoch 5/100\n",
            "7229/7229 [==============================] - 30s 4ms/step - loss: 0.1368 - accuracy: 0.9459 - val_loss: 0.1429 - val_accuracy: 0.9450\n",
            "\n",
            "Epoch 00005: val_loss did not improve from 0.13714\n",
            "\n",
            "Epoch 00005: ReduceLROnPlateau reducing learning rate to 0.0005000000237487257.\n",
            "Epoch 6/100\n",
            "7229/7229 [==============================] - 31s 4ms/step - loss: 0.1282 - accuracy: 0.9494 - val_loss: 0.1310 - val_accuracy: 0.9488\n",
            "\n",
            "Epoch 00006: val_loss improved from 0.13714 to 0.13101, saving model to best_model.h5\n",
            "Epoch 7/100\n",
            "7229/7229 [==============================] - 29s 4ms/step - loss: 0.1256 - accuracy: 0.9503 - val_loss: 0.1273 - val_accuracy: 0.9498\n",
            "\n",
            "Epoch 00007: val_loss improved from 0.13101 to 0.12727, saving model to best_model.h5\n",
            "Epoch 8/100\n",
            "7229/7229 [==============================] - 30s 4ms/step - loss: 0.1239 - accuracy: 0.9510 - val_loss: 0.1249 - val_accuracy: 0.9511\n",
            "\n",
            "Epoch 00008: val_loss improved from 0.12727 to 0.12489, saving model to best_model.h5\n",
            "Epoch 9/100\n",
            "7229/7229 [==============================] - 30s 4ms/step - loss: 0.1225 - accuracy: 0.9517 - val_loss: 0.1222 - val_accuracy: 0.9523\n",
            "\n",
            "Epoch 00009: val_loss improved from 0.12489 to 0.12220, saving model to best_model.h5\n",
            "Epoch 10/100\n",
            "7229/7229 [==============================] - 32s 4ms/step - loss: 0.1212 - accuracy: 0.9523 - val_loss: 0.1215 - val_accuracy: 0.9526\n",
            "\n",
            "Epoch 00010: val_loss improved from 0.12220 to 0.12149, saving model to best_model.h5\n",
            "Epoch 11/100\n",
            "7229/7229 [==============================] - 30s 4ms/step - loss: 0.1203 - accuracy: 0.9525 - val_loss: 0.1231 - val_accuracy: 0.9517\n",
            "\n",
            "Epoch 00011: val_loss did not improve from 0.12149\n",
            "\n",
            "Epoch 00011: ReduceLROnPlateau reducing learning rate to 0.0002500000118743628.\n",
            "Epoch 12/100\n",
            "7229/7229 [==============================] - 32s 4ms/step - loss: 0.1160 - accuracy: 0.9543 - val_loss: 0.1197 - val_accuracy: 0.9533\n",
            "\n",
            "Epoch 00012: val_loss improved from 0.12149 to 0.11970, saving model to best_model.h5\n",
            "Epoch 13/100\n",
            "7229/7229 [==============================] - 32s 4ms/step - loss: 0.1151 - accuracy: 0.9546 - val_loss: 0.1181 - val_accuracy: 0.9541\n",
            "\n",
            "Epoch 00013: val_loss improved from 0.11970 to 0.11809, saving model to best_model.h5\n",
            "Epoch 14/100\n",
            "7229/7229 [==============================] - 32s 4ms/step - loss: 0.1143 - accuracy: 0.9550 - val_loss: 0.1174 - val_accuracy: 0.9543\n",
            "\n",
            "Epoch 00014: val_loss improved from 0.11809 to 0.11745, saving model to best_model.h5\n",
            "Epoch 15/100\n",
            "7229/7229 [==============================] - 29s 4ms/step - loss: 0.1138 - accuracy: 0.9554 - val_loss: 0.1174 - val_accuracy: 0.9546\n",
            "\n",
            "Epoch 00015: val_loss improved from 0.11745 to 0.11739, saving model to best_model.h5\n",
            "\n",
            "Epoch 00015: ReduceLROnPlateau reducing learning rate to 0.0001250000059371814.\n",
            "Epoch 16/100\n",
            "7229/7229 [==============================] - 30s 4ms/step - loss: 0.1114 - accuracy: 0.9563 - val_loss: 0.1152 - val_accuracy: 0.9548\n",
            "\n",
            "Epoch 00016: val_loss improved from 0.11739 to 0.11515, saving model to best_model.h5\n",
            "Epoch 17/100\n",
            "7229/7229 [==============================] - 30s 4ms/step - loss: 0.1109 - accuracy: 0.9565 - val_loss: 0.1151 - val_accuracy: 0.9553\n",
            "\n",
            "Epoch 00017: val_loss improved from 0.11515 to 0.11507, saving model to best_model.h5\n",
            "\n",
            "Epoch 00017: ReduceLROnPlateau reducing learning rate to 6.25000029685907e-05.\n",
            "Epoch 18/100\n",
            "7229/7229 [==============================] - 30s 4ms/step - loss: 0.1096 - accuracy: 0.9570 - val_loss: 0.1141 - val_accuracy: 0.9555\n",
            "\n",
            "Epoch 00018: val_loss improved from 0.11507 to 0.11409, saving model to best_model.h5\n",
            "Epoch 19/100\n",
            "7229/7229 [==============================] - 31s 4ms/step - loss: 0.1093 - accuracy: 0.9571 - val_loss: 0.1139 - val_accuracy: 0.9557\n",
            "\n",
            "Epoch 00019: val_loss improved from 0.11409 to 0.11394, saving model to best_model.h5\n",
            "Epoch 20/100\n",
            "7229/7229 [==============================] - 31s 4ms/step - loss: 0.1091 - accuracy: 0.9573 - val_loss: 0.1140 - val_accuracy: 0.9558\n",
            "\n",
            "Epoch 00020: val_loss did not improve from 0.11394\n",
            "\n",
            "Epoch 00020: ReduceLROnPlateau reducing learning rate to 3.125000148429535e-05.\n",
            "Epoch 21/100\n",
            "7229/7229 [==============================] - 30s 4ms/step - loss: 0.1084 - accuracy: 0.9577 - val_loss: 0.1136 - val_accuracy: 0.9559\n",
            "\n",
            "Epoch 00021: val_loss improved from 0.11394 to 0.11361, saving model to best_model.h5\n",
            "Epoch 22/100\n",
            "7229/7229 [==============================] - 32s 4ms/step - loss: 0.1082 - accuracy: 0.9577 - val_loss: 0.1134 - val_accuracy: 0.9560\n",
            "\n",
            "Epoch 00022: val_loss improved from 0.11361 to 0.11340, saving model to best_model.h5\n",
            "Epoch 23/100\n",
            "7229/7229 [==============================] - 32s 4ms/step - loss: 0.1081 - accuracy: 0.9577 - val_loss: 0.1135 - val_accuracy: 0.9559\n",
            "\n",
            "Epoch 00023: val_loss did not improve from 0.11340\n",
            "\n",
            "Epoch 00023: ReduceLROnPlateau reducing learning rate to 1.5625000742147677e-05.\n",
            "Epoch 24/100\n",
            "7229/7229 [==============================] - 29s 4ms/step - loss: 0.1078 - accuracy: 0.9578 - val_loss: 0.1132 - val_accuracy: 0.9560\n",
            "\n",
            "Epoch 00024: val_loss improved from 0.11340 to 0.11322, saving model to best_model.h5\n",
            "Epoch 25/100\n",
            "7229/7229 [==============================] - 31s 4ms/step - loss: 0.1077 - accuracy: 0.9579 - val_loss: 0.1132 - val_accuracy: 0.9561\n",
            "\n",
            "Epoch 00025: val_loss improved from 0.11322 to 0.11321, saving model to best_model.h5\n",
            "\n",
            "Epoch 00025: ReduceLROnPlateau reducing learning rate to 7.812500371073838e-06.\n",
            "Epoch 26/100\n",
            "7229/7229 [==============================] - 32s 4ms/step - loss: 0.1075 - accuracy: 0.9580 - val_loss: 0.1131 - val_accuracy: 0.9560\n",
            "\n",
            "Epoch 00026: val_loss improved from 0.11321 to 0.11312, saving model to best_model.h5\n",
            "Epoch 27/100\n",
            "7229/7229 [==============================] - 30s 4ms/step - loss: 0.1075 - accuracy: 0.9580 - val_loss: 0.1131 - val_accuracy: 0.9560\n",
            "\n",
            "Epoch 00027: val_loss did not improve from 0.11312\n",
            "\n",
            "Epoch 00027: ReduceLROnPlateau reducing learning rate to 3.906250185536919e-06.\n",
            "Epoch 28/100\n",
            "7229/7229 [==============================] - 32s 4ms/step - loss: 0.1073 - accuracy: 0.9580 - val_loss: 0.1131 - val_accuracy: 0.9561\n",
            "\n",
            "Epoch 00028: val_loss improved from 0.11312 to 0.11308, saving model to best_model.h5\n",
            "\n",
            "Epoch 00028: ReduceLROnPlateau reducing learning rate to 1.9531250927684596e-06.\n",
            "Epoch 29/100\n",
            "7229/7229 [==============================] - 30s 4ms/step - loss: 0.1073 - accuracy: 0.9581 - val_loss: 0.1131 - val_accuracy: 0.9560\n",
            "\n",
            "Epoch 00029: val_loss improved from 0.11308 to 0.11307, saving model to best_model.h5\n",
            "\n",
            "Epoch 00029: ReduceLROnPlateau reducing learning rate to 9.765625463842298e-07.\n",
            "Epoch 30/100\n",
            "7229/7229 [==============================] - 30s 4ms/step - loss: 0.1073 - accuracy: 0.9580 - val_loss: 0.1131 - val_accuracy: 0.9561\n",
            "\n",
            "Epoch 00030: val_loss did not improve from 0.11307\n",
            "\n",
            "Epoch 00030: ReduceLROnPlateau reducing learning rate to 4.882812731921149e-07.\n",
            "Epoch 31/100\n",
            "7229/7229 [==============================] - 32s 4ms/step - loss: 0.1072 - accuracy: 0.9580 - val_loss: 0.1131 - val_accuracy: 0.9561\n",
            "\n",
            "Epoch 00031: val_loss did not improve from 0.11307\n",
            "\n",
            "Epoch 00031: ReduceLROnPlateau reducing learning rate to 2.4414063659605745e-07.\n",
            "Epoch 32/100\n",
            "7229/7229 [==============================] - 32s 4ms/step - loss: 0.1072 - accuracy: 0.9581 - val_loss: 0.1131 - val_accuracy: 0.9560\n",
            "Restoring model weights from the end of the best epoch.\n",
            "\n",
            "Epoch 00032: val_loss did not improve from 0.11307\n",
            "\n",
            "Epoch 00032: ReduceLROnPlateau reducing learning rate to 1.2207031829802872e-07.\n",
            "Epoch 00032: early stopping\n"
          ]
        },
        {
          "output_type": "execute_result",
          "data": {
            "text/plain": [
              "<keras.callbacks.History at 0x7f1b58edac90>"
            ]
          },
          "metadata": {},
          "execution_count": 23
        }
      ],
      "metadata": {
        "colab": {
          "base_uri": "https://localhost:8080/"
        },
        "id": "xOW9w3wHhxd1",
        "outputId": "afb46a6f-52d0-4304-8733-f5f840f85f8d"
      }
    },
    {
      "cell_type": "code",
      "execution_count": 26,
      "source": [
        "print(nn.evaluate(x_train, y_train))"
      ],
      "outputs": [
        {
          "output_type": "stream",
          "name": "stdout",
          "text": [
            "28916/28916 [==============================] - 69s 2ms/step - loss: 0.1072 - accuracy: 0.9580\n",
            "[0.107231505215168, 0.9580345749855042]\n"
          ]
        }
      ],
      "metadata": {
        "colab": {
          "base_uri": "https://localhost:8080/"
        },
        "id": "8wa5phkFhxgI",
        "outputId": "ab83cf18-a9c4-4e24-8d2d-d7bd84c337fc"
      }
    },
    {
      "cell_type": "code",
      "execution_count": null,
      "source": [],
      "outputs": [],
      "metadata": {
        "id": "kewpXoSks0At"
      }
    },
    {
      "cell_type": "code",
      "execution_count": null,
      "source": [
        "# #Model Builder Function\n",
        "# def create_nn(layers,activation):\n",
        "#   nn=Sequential()\n",
        "#   nn.add(keras.Input(shape=(22,)))\n",
        "#   for i,nodes in enumerate(layers):\n",
        "#       nn.add(Dense(nodes,activation=activation))\n",
        "#   nn.add(Dense(1, activation='sigmoid'))\n",
        "#   nn.compile(optimizer='adam',\n",
        "#               loss='binary_crossentropy',\n",
        "#               metrics=['accuracy'])\n",
        "#   return nn\n",
        "# nn=KerasClassifier(build_fn=create_nn,verbose=1)"
      ],
      "outputs": [],
      "metadata": {
        "id": "4lDGawdSV7hY"
      }
    },
    {
      "cell_type": "code",
      "execution_count": null,
      "source": [
        "# layers=[[128,256],[128,64,32],[64,32,16,8],[32,8],[8,4]]\n",
        "# activations=['relu']\n",
        "# param_grid=dict(layers=layers,activation=activations,batch_size=[256],epochs=[30])\n",
        "# grid=GridSearchCV(estimator=nn,param_grid=param_grid)"
      ],
      "outputs": [],
      "metadata": {
        "id": "SC8ddk4aYW1I"
      }
    },
    {
      "cell_type": "code",
      "execution_count": null,
      "source": [
        "# best_model=grid.fit(x_train,y_train,validation_data=(x_test, y_test),callbacks=[es,mc,reduce_lr])"
      ],
      "outputs": [],
      "metadata": {
        "id": "SmOjRv3LZZ2f"
      }
    },
    {
      "cell_type": "code",
      "execution_count": null,
      "source": [
        "# best_model.best_score_,grid_result.best_params_"
      ],
      "outputs": [],
      "metadata": {
        "id": "-ehQpkciZz3r"
      }
    },
    {
      "cell_type": "code",
      "execution_count": null,
      "source": [],
      "outputs": [],
      "metadata": {
        "id": "-Y23Xses8ZZD"
      }
    },
    {
      "cell_type": "code",
      "execution_count": null,
      "source": [],
      "outputs": [],
      "metadata": {
        "id": "9sNQatQ17pW_"
      }
    },
    {
      "cell_type": "code",
      "execution_count": null,
      "source": [],
      "outputs": [],
      "metadata": {
        "id": "1EmUN7Xb7pZP"
      }
    }
  ]
}