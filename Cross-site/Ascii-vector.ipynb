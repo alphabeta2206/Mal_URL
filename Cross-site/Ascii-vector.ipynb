{
 "cells": [
  {
   "cell_type": "code",
   "execution_count": 54,
   "metadata": {},
   "outputs": [],
   "source": [
    "import re\n",
    "import os\n",
    "import random\n",
    "import itertools\n",
    "import numpy as np\n",
    "import pandas as pd\n",
    "import seaborn as sns\n",
    "import tensorflow as tf\n",
    "from tensorflow import keras\n",
    "from tensorflow.keras import backend as K\n",
    "import matplotlib.pyplot as plt\n",
    "from sklearn.utils import shuffle\n",
    "from tensorflow.keras.models import Sequential\n",
    "from tensorflow.keras.preprocessing import sequence\n",
    "from sklearn.model_selection import train_test_split\n",
    "from sklearn.metrics import classification_report,confusion_matrix\n",
    "from tensorflow.keras.layers import LSTM, Dense, Dropout, Embedding, Conv2D, MaxPooling2D, Flatten\n",
    "from tensorflow.keras.callbacks import EarlyStopping,ModelCheckpoint,ReduceLROnPlateau"
   ]
  },
  {
   "cell_type": "code",
   "execution_count": 55,
   "metadata": {},
   "outputs": [],
   "source": [
    "df=pd.read_csv(\"/Users/abhinavshinow/Documents/GitHub/Mal_URL/Data/XSS_dataset.csv\")"
   ]
  },
  {
   "cell_type": "code",
   "execution_count": 57,
   "metadata": {},
   "outputs": [],
   "source": [
    "seed_value= 0\n",
    "\n",
    "os.environ['PYTHONHASHSEED']=str(seed_value)\n",
    "\n",
    "random.seed(seed_value)\n",
    "\n",
    "np.random.seed(seed_value)\n",
    "\n",
    "tf.random.set_seed(seed_value)\n",
    "\n",
    "# session_conf = tf.ConfigProto(intra_op_parallelism_threads=1, inter_op_parallelism_threads=1)\n",
    "# sess = tf.Session(graph=tf.get_default_graph(), config=session_conf)\n",
    "# K.set_session(sess)\n",
    "# for later versions:\n",
    "# session_conf = tf.compat.v1.ConfigProto(intra_op_parallelism_threads=1, inter_op_parallelism_threads=1)\n",
    "# sess = tf.compat.v1.Session(graph=tf.compat.v1.get_default_graph(), config=session_conf)\n",
    "# tf.compat.v1.keras.backend.set_session(sess)"
   ]
  },
  {
   "cell_type": "code",
   "execution_count": 58,
   "metadata": {},
   "outputs": [],
   "source": [
    "df.drop(df.columns[df.columns.str.contains('unnamed',case = False)],axis = 1, inplace = True)"
   ]
  },
  {
   "cell_type": "code",
   "execution_count": 59,
   "metadata": {},
   "outputs": [
    {
     "data": {
      "text/html": [
       "<div>\n",
       "<style scoped>\n",
       "    .dataframe tbody tr th:only-of-type {\n",
       "        vertical-align: middle;\n",
       "    }\n",
       "\n",
       "    .dataframe tbody tr th {\n",
       "        vertical-align: top;\n",
       "    }\n",
       "\n",
       "    .dataframe thead th {\n",
       "        text-align: right;\n",
       "    }\n",
       "</style>\n",
       "<table border=\"1\" class=\"dataframe\">\n",
       "  <thead>\n",
       "    <tr style=\"text-align: right;\">\n",
       "      <th></th>\n",
       "      <th>Sentence</th>\n",
       "      <th>Label</th>\n",
       "    </tr>\n",
       "  </thead>\n",
       "  <tbody>\n",
       "    <tr>\n",
       "      <th>0</th>\n",
       "      <td>&lt;li&gt;&lt;a href=\"/wiki/File:Socrates.png\" class=\"i...</td>\n",
       "      <td>0</td>\n",
       "    </tr>\n",
       "    <tr>\n",
       "      <th>1</th>\n",
       "      <td>&lt;tt onmouseover=\"alert(1)\"&gt;test&lt;/tt&gt;</td>\n",
       "      <td>1</td>\n",
       "    </tr>\n",
       "    <tr>\n",
       "      <th>2</th>\n",
       "      <td>\\t &lt;/span&gt; &lt;span class=\"reference-text\"&gt;Steeri...</td>\n",
       "      <td>0</td>\n",
       "    </tr>\n",
       "    <tr>\n",
       "      <th>3</th>\n",
       "      <td>\\t &lt;/span&gt; &lt;span class=\"reference-text\"&gt;&lt;cite ...</td>\n",
       "      <td>0</td>\n",
       "    </tr>\n",
       "    <tr>\n",
       "      <th>4</th>\n",
       "      <td>\\t &lt;/span&gt;. &lt;a href=\"/wiki/Digital_object_iden...</td>\n",
       "      <td>0</td>\n",
       "    </tr>\n",
       "  </tbody>\n",
       "</table>\n",
       "</div>"
      ],
      "text/plain": [
       "                                            Sentence  Label\n",
       "0  <li><a href=\"/wiki/File:Socrates.png\" class=\"i...      0\n",
       "1               <tt onmouseover=\"alert(1)\">test</tt>      1\n",
       "2  \\t </span> <span class=\"reference-text\">Steeri...      0\n",
       "3  \\t </span> <span class=\"reference-text\"><cite ...      0\n",
       "4  \\t </span>. <a href=\"/wiki/Digital_object_iden...      0"
      ]
     },
     "execution_count": 59,
     "metadata": {},
     "output_type": "execute_result"
    }
   ],
   "source": [
    "df.head()"
   ]
  },
  {
   "cell_type": "code",
   "execution_count": 8,
   "metadata": {},
   "outputs": [
    {
     "data": {
      "image/png": "[encoded data removed]",
      "text/plain": [
       "<Figure size 432x288 with 1 Axes>"
      ]
     },
     "metadata": {
      "needs_background": "light"
     },
     "output_type": "display_data"
    }
   ],
   "source": [
    "sns.countplot(x='Label',data=df, palette='rainbow')\n",
    "plt.show()"
   ]
  },
  {
   "cell_type": "code",
   "execution_count": 60,
   "metadata": {},
   "outputs": [],
   "source": [
    "SIZE = 100\n",
    "BATCH_SIZE = 64\n",
    "EPOCHS = 100"
   ]
  },
  {
   "cell_type": "code",
   "execution_count": 61,
   "metadata": {},
   "outputs": [],
   "source": [
    "def convert_to_ascii(script):\n",
    "    list = []\n",
    "    for char in script:\n",
    "        list.append(ord(char))\n",
    "    vector = np.zeros((10000))\n",
    "    for char in range(len(list)):\n",
    "        vector[char] = list[char]\n",
    "    vector.shape = (100,100)\n",
    "    return vector"
   ]
  },
  {
   "cell_type": "code",
   "execution_count": 62,
   "metadata": {},
   "outputs": [],
   "source": [
    "x = df[\"Sentence\"].values\n",
    "y = df[\"Label\"]"
   ]
  },
  {
   "cell_type": "code",
   "execution_count": 63,
   "metadata": {},
   "outputs": [],
   "source": [
    "arr=np.zeros((len(x),100,100))\n",
    "\n",
    "for i in range(len(x)):\n",
    "    image=convert_to_ascii(x[i]) \n",
    "    arr[i]=image"
   ]
  },
  {
   "cell_type": "code",
   "execution_count": 64,
   "metadata": {},
   "outputs": [],
   "source": [
    "x = arr.reshape(arr.shape[0], 100, 100, 1)"
   ]
  },
  {
   "cell_type": "code",
   "execution_count": 65,
   "metadata": {},
   "outputs": [],
   "source": [
    "x_train, x_test, y_train, y_test = train_test_split(x,y,test_size=0.2,shuffle='True',stratify=y)"
   ]
  },
  {
   "cell_type": "code",
   "execution_count": 66,
   "metadata": {},
   "outputs": [],
   "source": [
    "model = Sequential()\n",
    "model.add(Conv2D(64,(3,3), activation='relu', input_shape=(100,100,1)))\n",
    "model.add(MaxPooling2D(2,2))\n",
    "model.add(Conv2D(128,(3,3), activation='relu'))\n",
    "model.add(MaxPooling2D(2,2))\n",
    "model.add(Conv2D(256,(3,3), activation='relu'))\n",
    "model.add(MaxPooling2D(2,2))\n",
    "model.add(Flatten())\n",
    "model.add(Dense(256, activation='relu'))\n",
    "model.add(Dense(128, activation='relu'))\n",
    "model.add(Dense(64, activation='relu'))\n",
    "model.add(Dense(1, activation='sigmoid'))"
   ]
  },
  {
   "cell_type": "code",
   "execution_count": 67,
   "metadata": {},
   "outputs": [],
   "source": [
    "es = EarlyStopping(monitor='val_loss', \n",
    "        mode='min', \n",
    "        patience=5,\n",
    "        restore_best_weights=True, \n",
    "        verbose=1)\n",
    "mc = ModelCheckpoint('best_model.h5',verbose=1,save_best_only=True, save_weights_only = True)\n",
    "reduce_lr=ReduceLROnPlateau( monitor=\"val_loss\",factor=0.7,patience=5, verbose=1)\n",
    "callbacks=[es,mc,reduce_lr]"
   ]
  },
  {
   "cell_type": "code",
   "execution_count": 68,
   "metadata": {},
   "outputs": [
    {
     "name": "stdout",
     "output_type": "stream",
     "text": [
      "Model: \"sequential_3\"\n",
      "_________________________________________________________________\n",
      "Layer (type)                 Output Shape              Param #   \n",
      "=================================================================\n",
      "conv2d_6 (Conv2D)            (None, 98, 98, 64)        640       \n",
      "_________________________________________________________________\n",
      "max_pooling2d_6 (MaxPooling2 (None, 49, 49, 64)        0         \n",
      "_________________________________________________________________\n",
      "conv2d_7 (Conv2D)            (None, 47, 47, 128)       73856     \n",
      "_________________________________________________________________\n",
      "max_pooling2d_7 (MaxPooling2 (None, 23, 23, 128)       0         \n",
      "_________________________________________________________________\n",
      "conv2d_8 (Conv2D)            (None, 21, 21, 256)       295168    \n",
      "_________________________________________________________________\n",
      "max_pooling2d_8 (MaxPooling2 (None, 10, 10, 256)       0         \n",
      "_________________________________________________________________\n",
      "flatten_2 (Flatten)          (None, 25600)             0         \n",
      "_________________________________________________________________\n",
      "dense_8 (Dense)              (None, 256)               6553856   \n",
      "_________________________________________________________________\n",
      "dense_9 (Dense)              (None, 128)               32896     \n",
      "_________________________________________________________________\n",
      "dense_10 (Dense)             (None, 64)                8256      \n",
      "_________________________________________________________________\n",
      "dense_11 (Dense)             (None, 1)                 65        \n",
      "=================================================================\n",
      "Total params: 6,964,737\n",
      "Trainable params: 6,964,737\n",
      "Non-trainable params: 0\n",
      "_________________________________________________________________\n"
     ]
    }
   ],
   "source": [
    "model.compile(loss='binary_crossentropy',\n",
    "                optimizer='adam', \n",
    "              metrics=['accuracy'])\n",
    "model.summary()"
   ]
  },
  {
   "cell_type": "code",
   "execution_count": 69,
   "metadata": {},
   "outputs": [
    {
     "name": "stdout",
     "output_type": "stream",
     "text": [
      "Epoch 1/100\n"
     ]
    },
    {
     "name": "stderr",
     "output_type": "stream",
     "text": [
      "2021-12-04 16:56:16.246689: I tensorflow/core/grappler/optimizers/custom_graph_optimizer_registry.cc:112] Plugin optimizer for device_type GPU is enabled.\n"
     ]
    },
    {
     "name": "stdout",
     "output_type": "stream",
     "text": [
      "172/172 [==============================] - ETA: 0s - loss: 0.3177 - accuracy: 0.8850"
     ]
    },
    {
     "name": "stderr",
     "output_type": "stream",
     "text": [
      "2021-12-04 16:56:48.099760: I tensorflow/core/grappler/optimizers/custom_graph_optimizer_registry.cc:112] Plugin optimizer for device_type GPU is enabled.\n"
     ]
    },
    {
     "name": "stdout",
     "output_type": "stream",
     "text": [
      "172/172 [==============================] - 35s 195ms/step - loss: 0.3177 - accuracy: 0.8850 - val_loss: 0.1460 - val_accuracy: 0.9551\n",
      "\n",
      "Epoch 00001: val_loss improved from inf to 0.14603, saving model to best_model.h5\n",
      "Epoch 2/100\n",
      "172/172 [==============================] - 33s 193ms/step - loss: 0.0688 - accuracy: 0.9812 - val_loss: 0.0597 - val_accuracy: 0.9839\n",
      "\n",
      "Epoch 00002: val_loss improved from 0.14603 to 0.05966, saving model to best_model.h5\n",
      "Epoch 3/100\n",
      "172/172 [==============================] - 33s 190ms/step - loss: 0.0532 - accuracy: 0.9866 - val_loss: 0.0968 - val_accuracy: 0.9690\n",
      "\n",
      "Epoch 00003: val_loss did not improve from 0.05966\n",
      "Epoch 4/100\n",
      "172/172 [==============================] - 33s 189ms/step - loss: 0.0366 - accuracy: 0.9887 - val_loss: 0.0468 - val_accuracy: 0.9872\n",
      "\n",
      "Epoch 00004: val_loss improved from 0.05966 to 0.04683, saving model to best_model.h5\n",
      "Epoch 5/100\n",
      "172/172 [==============================] - 35s 203ms/step - loss: 0.0315 - accuracy: 0.9906 - val_loss: 0.0438 - val_accuracy: 0.9854\n",
      "\n",
      "Epoch 00005: val_loss improved from 0.04683 to 0.04380, saving model to best_model.h5\n",
      "Epoch 6/100\n",
      "172/172 [==============================] - 34s 197ms/step - loss: 0.0239 - accuracy: 0.9916 - val_loss: 0.0422 - val_accuracy: 0.9847\n",
      "\n",
      "Epoch 00006: val_loss improved from 0.04380 to 0.04222, saving model to best_model.h5\n",
      "Epoch 7/100\n",
      "172/172 [==============================] - 34s 196ms/step - loss: 0.0199 - accuracy: 0.9937 - val_loss: 0.2137 - val_accuracy: 0.9722\n",
      "\n",
      "Epoch 00007: val_loss did not improve from 0.04222\n",
      "Epoch 8/100\n",
      "172/172 [==============================] - 33s 194ms/step - loss: 0.0877 - accuracy: 0.9880 - val_loss: 1.6954 - val_accuracy: 0.9671\n",
      "\n",
      "Epoch 00008: val_loss did not improve from 0.04222\n",
      "Epoch 9/100\n",
      "172/172 [==============================] - 34s 200ms/step - loss: 0.1057 - accuracy: 0.9886 - val_loss: 0.0768 - val_accuracy: 0.9869\n",
      "\n",
      "Epoch 00009: val_loss did not improve from 0.04222\n",
      "Epoch 10/100\n",
      "172/172 [==============================] - 33s 194ms/step - loss: 0.0654 - accuracy: 0.9883 - val_loss: 0.1300 - val_accuracy: 0.9839\n",
      "\n",
      "Epoch 00010: val_loss did not improve from 0.04222\n",
      "Epoch 11/100\n",
      "172/172 [==============================] - 33s 194ms/step - loss: 0.0205 - accuracy: 0.9932 - val_loss: 0.0376 - val_accuracy: 0.9901\n",
      "\n",
      "Epoch 00011: val_loss improved from 0.04222 to 0.03760, saving model to best_model.h5\n",
      "Epoch 12/100\n",
      "172/172 [==============================] - 33s 193ms/step - loss: 0.0111 - accuracy: 0.9957 - val_loss: 0.0554 - val_accuracy: 0.9836\n",
      "\n",
      "Epoch 00012: val_loss did not improve from 0.03760\n",
      "Epoch 13/100\n",
      "172/172 [==============================] - 41s 236ms/step - loss: 0.0083 - accuracy: 0.9967 - val_loss: 0.0441 - val_accuracy: 0.9912\n",
      "\n",
      "Epoch 00013: val_loss did not improve from 0.03760\n",
      "Epoch 14/100\n",
      "172/172 [==============================] - 36s 209ms/step - loss: 0.0109 - accuracy: 0.9967 - val_loss: 0.1514 - val_accuracy: 0.9858\n",
      "\n",
      "Epoch 00014: val_loss did not improve from 0.03760\n",
      "Epoch 15/100\n",
      "172/172 [==============================] - 34s 195ms/step - loss: 0.0303 - accuracy: 0.9933 - val_loss: 0.1929 - val_accuracy: 0.9883\n",
      "\n",
      "Epoch 00015: val_loss did not improve from 0.03760\n",
      "Epoch 16/100\n",
      "172/172 [==============================] - 41s 240ms/step - loss: 0.1118 - accuracy: 0.9911 - val_loss: 0.0439 - val_accuracy: 0.9883\n",
      "Restoring model weights from the end of the best epoch.\n",
      "\n",
      "Epoch 00016: val_loss did not improve from 0.03760\n",
      "\n",
      "Epoch 00016: ReduceLROnPlateau reducing learning rate to 0.0007000000332482159.\n",
      "Epoch 00016: early stopping\n"
     ]
    }
   ],
   "source": [
    "history=model.fit(x_train,y_train,batch_size=BATCH_SIZE,epochs=EPOCHS,validation_data=(x_test, y_test),callbacks=[es,mc,reduce_lr])"
   ]
  },
  {
   "cell_type": "code",
   "execution_count": 71,
   "metadata": {},
   "outputs": [
    {
     "data": {
      "image/png": "[encoded data removed]",
      "text/plain": [
       "<Figure size 432x288 with 1 Axes>"
      ]
     },
     "metadata": {
      "needs_background": "light"
     },
     "output_type": "display_data"
    }
   ],
   "source": [
    "plt.plot(history.history['accuracy'])\n",
    "plt.plot(history.history['val_accuracy'])\n",
    "plt.title('Model Accuracy')\n",
    "plt.ylabel('Accuracy')\n",
    "plt.xlabel('Epoch')\n",
    "plt.legend(['train', 'validation'], loc='upper left')\n",
    "plt.show()"
   ]
  },
  {
   "cell_type": "code",
   "execution_count": 72,
   "metadata": {},
   "outputs": [
    {
     "name": "stdout",
     "output_type": "stream",
     "text": [
      "Test-Accuracy: 0.991234540939331\n",
      "Train-Accuracy: 0.996711790561676\n",
      "Test-loss: 0.0376046821475029\n",
      "Train-loss: 0.008266792632639408\n"
     ]
    }
   ],
   "source": [
    "val_accuracy=max(history.history['val_accuracy'])\n",
    "accuracy=max(history.history['accuracy'])\n",
    "val_loss=min(history.history['val_loss'])\n",
    "loss=min(history.history['loss'])\n",
    "print(f'Test-Accuracy: {val_accuracy}')\n",
    "print(f'Train-Accuracy: {accuracy}')\n",
    "print(f'Test-loss: {val_loss}')\n",
    "print(f'Train-loss: {loss}')"
   ]
  },
  {
   "cell_type": "code",
   "execution_count": 70,
   "metadata": {},
   "outputs": [
    {
     "name": "stderr",
     "output_type": "stream",
     "text": [
      "2021-12-04 17:05:49.004193: I tensorflow/core/grappler/optimizers/custom_graph_optimizer_registry.cc:112] Plugin optimizer for device_type GPU is enabled.\n"
     ]
    }
   ],
   "source": [
    "pred=model.predict(x_test)"
   ]
  },
  {
   "cell_type": "code",
   "execution_count": null,
   "metadata": {},
   "outputs": [],
   "source": []
  }
 ],
 "metadata": {
  "interpreter": {
   "hash": "4bd624a0593993fe43ac4046b27b898fb2ef75c21c08f81e89e64ea0f51df676"
  },
  "kernelspec": {
   "display_name": "Python 3.9.7 64-bit ('tensorflow': conda)",
   "language": "python",
   "name": "python3"
  },
  "language_info": {
   "codemirror_mode": {
    "name": "ipython",
    "version": 3
   },
   "file_extension": ".py",
   "mimetype": "text/x-python",
   "name": "python",
   "nbconvert_exporter": "python",
   "pygments_lexer": "ipython3",
   "version": "3.9.7"
  },
  "orig_nbformat": 4
 },
 "nbformat": 4,
 "nbformat_minor": 2
}
